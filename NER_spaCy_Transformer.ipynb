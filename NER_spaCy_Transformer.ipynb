{
  "nbformat": 4,
  "nbformat_minor": 0,
  "metadata": {
    "colab": {
      "provenance": []
    },
    "kernelspec": {
      "name": "python3",
      "display_name": "Python 3"
    },
    "language_info": {
      "name": "python"
    }
  },
  "cells": [
    {
      "cell_type": "markdown",
      "source": [
        "Named Entity Recognition (NER) With SpaCy"
      ],
      "metadata": {
        "id": "faVPzdzNZPud"
      }
    },
    {
      "cell_type": "code",
      "execution_count": 1,
      "metadata": {
        "colab": {
          "base_uri": "https://localhost:8080/"
        },
        "id": "LTSQegoXZG4f",
        "outputId": "36052b3e-aa2f-4d47-8208-46ead739930a"
      },
      "outputs": [
        {
          "output_type": "stream",
          "name": "stderr",
          "text": [
            "/usr/local/lib/python3.8/dist-packages/torch/cuda/__init__.py:497: UserWarning: Can't initialize NVML\n",
            "  warnings.warn(\"Can't initialize NVML\")\n"
          ]
        }
      ],
      "source": [
        "import spacy\n",
        "from spacy import displacy"
      ]
    },
    {
      "cell_type": "code",
      "source": [
        "# ! pip install spacy-transformers"
      ],
      "metadata": {
        "id": "NEUkPIgx1SGU"
      },
      "execution_count": 16,
      "outputs": []
    },
    {
      "cell_type": "code",
      "source": [
        "# ! python -m spacy download en_core_web_lg\n",
        "# ! python -m spacy download en_core_web_trf"
      ],
      "metadata": {
        "id": "GHOzSZJiZQOJ"
      },
      "execution_count": 5,
      "outputs": []
    },
    {
      "cell_type": "code",
      "source": [
        "import spacy_transformers\n",
        "\n",
        "lg = spacy.load('en_core_web_lg')"
      ],
      "metadata": {
        "id": "nsnREDMOZVaH"
      },
      "execution_count": 3,
      "outputs": []
    },
    {
      "cell_type": "code",
      "source": [
        "txt = \"Apple reached an all-time high stock price of 143 dollars this January.\""
      ],
      "metadata": {
        "id": "fd6gAFxAZZQO"
      },
      "execution_count": 6,
      "outputs": []
    },
    {
      "cell_type": "code",
      "source": [
        "doc_lg = lg(txt)"
      ],
      "metadata": {
        "id": "Ir2LdgP2ZeXZ"
      },
      "execution_count": 7,
      "outputs": []
    },
    {
      "cell_type": "code",
      "source": [
        "displacy.render(doc_lg, style='ent', jupyter = True)"
      ],
      "metadata": {
        "colab": {
          "base_uri": "https://localhost:8080/",
          "height": 52
        },
        "id": "74JG2XEGZh1J",
        "outputId": "67f33554-e791-49a0-d610-8c97b0e63b3b"
      },
      "execution_count": 8,
      "outputs": [
        {
          "output_type": "display_data",
          "data": {
            "text/plain": [
              "<IPython.core.display.HTML object>"
            ],
            "text/html": [
              "<span class=\"tex2jax_ignore\"><div class=\"entities\" style=\"line-height: 2.5; direction: ltr\">\n",
              "<mark class=\"entity\" style=\"background: #7aecec; padding: 0.45em 0.6em; margin: 0 0.25em; line-height: 1; border-radius: 0.35em;\">\n",
              "    Apple\n",
              "    <span style=\"font-size: 0.8em; font-weight: bold; line-height: 1; border-radius: 0.35em; vertical-align: middle; margin-left: 0.5rem\">ORG</span>\n",
              "</mark>\n",
              " reached an all-time high stock price of \n",
              "<mark class=\"entity\" style=\"background: #e4e7d2; padding: 0.45em 0.6em; margin: 0 0.25em; line-height: 1; border-radius: 0.35em;\">\n",
              "    143 dollars\n",
              "    <span style=\"font-size: 0.8em; font-weight: bold; line-height: 1; border-radius: 0.35em; vertical-align: middle; margin-left: 0.5rem\">MONEY</span>\n",
              "</mark>\n",
              " \n",
              "<mark class=\"entity\" style=\"background: #bfe1d9; padding: 0.45em 0.6em; margin: 0 0.25em; line-height: 1; border-radius: 0.35em;\">\n",
              "    this January\n",
              "    <span style=\"font-size: 0.8em; font-weight: bold; line-height: 1; border-radius: 0.35em; vertical-align: middle; margin-left: 0.5rem\">DATE</span>\n",
              "</mark>\n",
              ".</div></span>"
            ]
          },
          "metadata": {}
        }
      ]
    },
    {
      "cell_type": "markdown",
      "source": [
        "![image.png](data:image/png;base64,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)"
      ],
      "metadata": {
        "id": "cOt2pkNHGDND"
      }
    },
    {
      "cell_type": "code",
      "source": [
        "spacy.explain('ORG')"
      ],
      "metadata": {
        "colab": {
          "base_uri": "https://localhost:8080/",
          "height": 36
        },
        "id": "ZyRXVS-9Zv1i",
        "outputId": "10e5c4ef-a58f-4fc9-b3f4-5ec21df8173b"
      },
      "execution_count": 9,
      "outputs": [
        {
          "output_type": "execute_result",
          "data": {
            "text/plain": [
              "'Companies, agencies, institutions, etc.'"
            ],
            "application/vnd.google.colaboratory.intrinsic+json": {
              "type": "string"
            }
          },
          "metadata": {},
          "execution_count": 9
        }
      ]
    },
    {
      "cell_type": "code",
      "source": [
        "doc_lg.ents"
      ],
      "metadata": {
        "colab": {
          "base_uri": "https://localhost:8080/"
        },
        "id": "v5qJbnc5cRVo",
        "outputId": "0924ad10-62e9-4911-8093-1dc59202d862"
      },
      "execution_count": 10,
      "outputs": [
        {
          "output_type": "execute_result",
          "data": {
            "text/plain": [
              "(Apple, 143 dollars, this January)"
            ]
          },
          "metadata": {},
          "execution_count": 10
        }
      ]
    },
    {
      "cell_type": "code",
      "source": [
        "# to extract entities from text\n",
        "\n",
        "for entity in doc_lg.ents:\n",
        "    print(f\"{entity.label_}: {entity.text}\")"
      ],
      "metadata": {
        "colab": {
          "base_uri": "https://localhost:8080/"
        },
        "id": "JnY7nSQ9cYG6",
        "outputId": "82c9a045-0772-4b41-a488-d3b7619aac60"
      },
      "execution_count": 11,
      "outputs": [
        {
          "output_type": "stream",
          "name": "stdout",
          "text": [
            "ORG: Apple\n",
            "MONEY: 143 dollars\n",
            "DATE: this January\n"
          ]
        }
      ]
    },
    {
      "cell_type": "code",
      "source": [
        "# filter all ORGANIZATION in the sentence\n",
        "\n",
        "# initialize our list\n",
        "org_list = []\n",
        "org = 'ORG'\n",
        "for entity in doc_lg.ents:\n",
        "    # if label_ is ORG, we append text, otherwise ignore\n",
        "    if entity.label_ == org:\n",
        "        org_list.append(entity.text)\n",
        "\n",
        "org_list"
      ],
      "metadata": {
        "colab": {
          "base_uri": "https://localhost:8080/"
        },
        "id": "OXqLmIbycwQo",
        "outputId": "07eb3c76-4ac3-41e7-b5cf-07cf28787ff3"
      },
      "execution_count": 12,
      "outputs": [
        {
          "output_type": "execute_result",
          "data": {
            "text/plain": [
              "['Apple']"
            ]
          },
          "metadata": {},
          "execution_count": 12
        }
      ]
    },
    {
      "cell_type": "code",
      "source": [
        "set(org_list)"
      ],
      "metadata": {
        "colab": {
          "base_uri": "https://localhost:8080/"
        },
        "id": "rK1OiVOzfUH8",
        "outputId": "d3187c45-dca5-49f9-fa75-2dd038990f9f"
      },
      "execution_count": 13,
      "outputs": [
        {
          "output_type": "execute_result",
          "data": {
            "text/plain": [
              "{'Apple'}"
            ]
          },
          "metadata": {},
          "execution_count": 13
        }
      ]
    },
    {
      "cell_type": "markdown",
      "source": [
        "Transformer"
      ],
      "metadata": {
        "id": "P5wudbTJ3J9p"
      }
    },
    {
      "cell_type": "code",
      "source": [
        "trf = spacy.load('en_core_web_trf')"
      ],
      "metadata": {
        "id": "Y-KmRtf11BrE"
      },
      "execution_count": 4,
      "outputs": []
    },
    {
      "cell_type": "code",
      "source": [
        "doc_trf = trf(txt)"
      ],
      "metadata": {
        "id": "oy7WxmGLgA7G"
      },
      "execution_count": 14,
      "outputs": []
    },
    {
      "cell_type": "code",
      "source": [
        "displacy.render(doc_trf, style='ent', jupyter = True)"
      ],
      "metadata": {
        "colab": {
          "base_uri": "https://localhost:8080/",
          "height": 52
        },
        "id": "-YdOO5Je3XIE",
        "outputId": "d7548fe0-72da-4fd5-d0f3-fe6f88c81235"
      },
      "execution_count": 15,
      "outputs": [
        {
          "output_type": "display_data",
          "data": {
            "text/plain": [
              "<IPython.core.display.HTML object>"
            ],
            "text/html": [
              "<span class=\"tex2jax_ignore\"><div class=\"entities\" style=\"line-height: 2.5; direction: ltr\">\n",
              "<mark class=\"entity\" style=\"background: #7aecec; padding: 0.45em 0.6em; margin: 0 0.25em; line-height: 1; border-radius: 0.35em;\">\n",
              "    Apple\n",
              "    <span style=\"font-size: 0.8em; font-weight: bold; line-height: 1; border-radius: 0.35em; vertical-align: middle; margin-left: 0.5rem\">ORG</span>\n",
              "</mark>\n",
              " reached an all-time high stock price of \n",
              "<mark class=\"entity\" style=\"background: #e4e7d2; padding: 0.45em 0.6em; margin: 0 0.25em; line-height: 1; border-radius: 0.35em;\">\n",
              "    143 dollars\n",
              "    <span style=\"font-size: 0.8em; font-weight: bold; line-height: 1; border-radius: 0.35em; vertical-align: middle; margin-left: 0.5rem\">MONEY</span>\n",
              "</mark>\n",
              " \n",
              "<mark class=\"entity\" style=\"background: #bfe1d9; padding: 0.45em 0.6em; margin: 0 0.25em; line-height: 1; border-radius: 0.35em;\">\n",
              "    this January\n",
              "    <span style=\"font-size: 0.8em; font-weight: bold; line-height: 1; border-radius: 0.35em; vertical-align: middle; margin-left: 0.5rem\">DATE</span>\n",
              "</mark>\n",
              ".</div></span>"
            ]
          },
          "metadata": {}
        }
      ]
    },
    {
      "cell_type": "markdown",
      "source": [
        "![image.png](data:image/png;base64,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)"
      ],
      "metadata": {
        "id": "S5yrMXcbGK7y"
      }
    },
    {
      "cell_type": "code",
      "source": [],
      "metadata": {
        "id": "MKvhF8ls3bb_"
      },
      "execution_count": null,
      "outputs": []
    }
  ]
}