{
  "nbformat": 4,
  "nbformat_minor": 0,
  "metadata": {
    "colab": {
      "provenance": []
    },
    "kernelspec": {
      "name": "python3",
      "display_name": "Python 3"
    },
    "language_info": {
      "name": "python"
    }
  },
  "cells": [
    {
      "cell_type": "code",
      "execution_count": 1,
      "metadata": {
        "colab": {
          "base_uri": "https://localhost:8080/"
        },
        "id": "w15lWg276-Lc",
        "outputId": "32923a8c-2d4d-4ecd-bdb5-9d9a0a89c314"
      },
      "outputs": [
        {
          "output_type": "stream",
          "name": "stderr",
          "text": [
            "/usr/local/lib/python3.8/dist-packages/torch/cuda/__init__.py:497: UserWarning: Can't initialize NVML\n",
            "  warnings.warn(\"Can't initialize NVML\")\n"
          ]
        }
      ],
      "source": [
        "from sklearn.feature_extraction.text import TfidfVectorizer\n",
        "from spacy.lang.en import English\n",
        "import numpy as np"
      ]
    },
    {
      "cell_type": "code",
      "source": [
        "nlp = English()\n",
        "nlp.add_pipe(\"sentencizer\")"
      ],
      "metadata": {
        "colab": {
          "base_uri": "https://localhost:8080/"
        },
        "id": "XeRg_1uW7GUJ",
        "outputId": "97bc9c7a-0c37-4cf3-93f5-1713f90ec292"
      },
      "execution_count": 5,
      "outputs": [
        {
          "output_type": "execute_result",
          "data": {
            "text/plain": [
              "<spacy.pipeline.sentencizer.Sentencizer at 0x7f838fb96f00>"
            ]
          },
          "metadata": {},
          "execution_count": 5
        }
      ]
    },
    {
      "cell_type": "code",
      "source": [
        "text_corpus = \"\"\"\n",
        "Google celebrated British illustrator and artist Sir John Tenniel's \n",
        "200th birth anniversary with a doodle on February 28. An acclaimed \n",
        "Victorian painter, Tenniel is celebrated for his illustrations for \n",
        "Lewis Carroll's Alice's Adventures in Wonderland and Through the Looking-Glass.\n",
        "Tenniel was born in Bayswater, West London in 1820. At the age of 20, Tenniel \n",
        "received a major eye injury and eventually, lost sight in his right eye. \n",
        "From a very early age, Tenniel was appreciated as a humorist and soon after, \n",
        "also cultured his talent for scholarly caricature.\n",
        "His first illustration was for Samuel Carter Hall's The Book of British \n",
        "Ballads in 1842. Eight years later, he joined the historic weekly magazine \n",
        "Punch as a political cartoonist. Lewis Carroll noticed Tenniel's distinct style \n",
        "of work and in 1864, approached the artist to illustrate his book, Alice's \n",
        "Adventures in Wonderland. This association marked Carroll and Tenniel's creative \n",
        "partnership and continued with Through the Looking Glass in 1872. \"The result: \n",
        "a series of classic characters, such as Alice and the Cheshire Cat, as depicted \n",
        "in the Doodle artwork's rendition of their iconic meeting-characters who, along \n",
        "with many others, remain beloved by readers of all ages to this day,\" the Google \n",
        "Doodle page says. After working with Lewis Carroll, Tenniel resumed his work with \n",
        "Punch. For his work, Tenniel also received a knighthood in 1893.\n",
        "Sir John Tenniel died on February 25, 1914. He was 93.\n",
        "\"\"\""
      ],
      "metadata": {
        "id": "bwFCChaQ7M7s"
      },
      "execution_count": 6,
      "outputs": []
    },
    {
      "cell_type": "code",
      "source": [
        "doc = nlp(text_corpus.replace(\"\\n\", \"\"))"
      ],
      "metadata": {
        "id": "go84Qyye7RsT"
      },
      "execution_count": 8,
      "outputs": []
    },
    {
      "cell_type": "code",
      "source": [
        "doc[0]"
      ],
      "metadata": {
        "colab": {
          "base_uri": "https://localhost:8080/"
        },
        "id": "coEULbSA7UFw",
        "outputId": "59f4e4dd-9412-4085-c654-b3044d9e32b2"
      },
      "execution_count": 9,
      "outputs": [
        {
          "output_type": "execute_result",
          "data": {
            "text/plain": [
              "Google"
            ]
          },
          "metadata": {},
          "execution_count": 9
        }
      ]
    },
    {
      "cell_type": "code",
      "source": [
        "doc"
      ],
      "metadata": {
        "colab": {
          "base_uri": "https://localhost:8080/"
        },
        "id": "HpfoyaWc7-it",
        "outputId": "f8f1d2bb-b1d1-4ec8-f46e-aa2e6870d109"
      },
      "execution_count": 10,
      "outputs": [
        {
          "output_type": "execute_result",
          "data": {
            "text/plain": [
              "Google celebrated British illustrator and artist Sir John Tenniel's 200th birth anniversary with a doodle on February 28. An acclaimed Victorian painter, Tenniel is celebrated for his illustrations for Lewis Carroll's Alice's Adventures in Wonderland and Through the Looking-Glass.Tenniel was born in Bayswater, West London in 1820. At the age of 20, Tenniel received a major eye injury and eventually, lost sight in his right eye. From a very early age, Tenniel was appreciated as a humorist and soon after, also cultured his talent for scholarly caricature.His first illustration was for Samuel Carter Hall's The Book of British Ballads in 1842. Eight years later, he joined the historic weekly magazine Punch as a political cartoonist. Lewis Carroll noticed Tenniel's distinct style of work and in 1864, approached the artist to illustrate his book, Alice's Adventures in Wonderland. This association marked Carroll and Tenniel's creative partnership and continued with Through the Looking Glass in 1872. \"The result: a series of classic characters, such as Alice and the Cheshire Cat, as depicted in the Doodle artwork's rendition of their iconic meeting-characters who, along with many others, remain beloved by readers of all ages to this day,\" the Google Doodle page says. After working with Lewis Carroll, Tenniel resumed his work with Punch. For his work, Tenniel also received a knighthood in 1893.Sir John Tenniel died on February 25, 1914. He was 93."
            ]
          },
          "metadata": {},
          "execution_count": 10
        }
      ]
    },
    {
      "cell_type": "code",
      "source": [
        "sentences = [sent.text.strip() for sent in doc.sents]"
      ],
      "metadata": {
        "id": "VxeIg_G48CEZ"
      },
      "execution_count": 12,
      "outputs": []
    },
    {
      "cell_type": "code",
      "source": [
        "sentences[0]"
      ],
      "metadata": {
        "colab": {
          "base_uri": "https://localhost:8080/",
          "height": 36
        },
        "id": "tjaC7JLL8KSV",
        "outputId": "0cf43337-dbba-486a-a728-df560f0c526d"
      },
      "execution_count": 13,
      "outputs": [
        {
          "output_type": "execute_result",
          "data": {
            "text/plain": [
              "\"Google celebrated British illustrator and artist Sir John Tenniel's 200th birth anniversary with a doodle on February 28.\""
            ],
            "application/vnd.google.colaboratory.intrinsic+json": {
              "type": "string"
            }
          },
          "metadata": {},
          "execution_count": 13
        }
      ]
    },
    {
      "cell_type": "markdown",
      "source": [
        "# Sentence Organizer"
      ],
      "metadata": {
        "id": "sPBdM2aF8ir7"
      }
    },
    {
      "cell_type": "code",
      "source": [
        "sentence_organizer = {k:v for v,k in enumerate(sentences)}"
      ],
      "metadata": {
        "id": "HBInMzb58chw"
      },
      "execution_count": 14,
      "outputs": []
    },
    {
      "cell_type": "code",
      "source": [
        "sentence_organizer"
      ],
      "metadata": {
        "colab": {
          "base_uri": "https://localhost:8080/"
        },
        "id": "UplfNOsx8lme",
        "outputId": "995a5a94-70cb-484a-9324-bb640132768a"
      },
      "execution_count": 15,
      "outputs": [
        {
          "output_type": "execute_result",
          "data": {
            "text/plain": [
              "{\"Google celebrated British illustrator and artist Sir John Tenniel's 200th birth anniversary with a doodle on February 28.\": 0,\n",
              " \"An acclaimed Victorian painter, Tenniel is celebrated for his illustrations for Lewis Carroll's Alice's Adventures in Wonderland and Through the Looking-Glass.\": 1,\n",
              " 'Tenniel was born in Bayswater, West London in 1820.': 2,\n",
              " 'At the age of 20, Tenniel received a major eye injury and eventually, lost sight in his right eye.': 3,\n",
              " 'From a very early age, Tenniel was appreciated as a humorist and soon after, also cultured his talent for scholarly caricature.': 4,\n",
              " \"His first illustration was for Samuel Carter Hall's The Book of British Ballads in 1842.\": 5,\n",
              " 'Eight years later, he joined the historic weekly magazine Punch as a political cartoonist.': 6,\n",
              " \"Lewis Carroll noticed Tenniel's distinct style of work and in 1864, approached the artist to illustrate his book, Alice's Adventures in Wonderland.\": 7,\n",
              " 'This association marked Carroll and Tenniel\\'s creative partnership and continued with Through the Looking Glass in 1872. \"': 8,\n",
              " 'The result: a series of classic characters, such as Alice and the Cheshire Cat, as depicted in the Doodle artwork\\'s rendition of their iconic meeting-characters who, along with many others, remain beloved by readers of all ages to this day,\" the Google Doodle page says.': 9,\n",
              " 'After working with Lewis Carroll, Tenniel resumed his work with Punch.': 10,\n",
              " 'For his work, Tenniel also received a knighthood in 1893.Sir John Tenniel died on February 25, 1914.': 11,\n",
              " 'He was 93.': 12}"
            ]
          },
          "metadata": {},
          "execution_count": 15
        }
      ]
    },
    {
      "cell_type": "markdown",
      "source": [
        "# TF-IDF Model"
      ],
      "metadata": {
        "id": "dalYCatC8skj"
      }
    },
    {
      "cell_type": "code",
      "source": [
        "tf_idf_vectorizer = TfidfVectorizer(min_df=2,  max_features=None, strip_accents='unicode', analyzer='word', token_pattern=r'\\w{1,}',\n",
        "                                    ngram_range=(1, 3), use_idf=1,smooth_idf=1, sublinear_tf=1, stop_words = 'english')"
      ],
      "metadata": {
        "id": "pKhWhMck8nQw"
      },
      "execution_count": 16,
      "outputs": []
    },
    {
      "cell_type": "code",
      "source": [
        "# Passing our sentences treating each as one document to TF-IDF vectorizer\n",
        "tf_idf_vectorizer.fit(sentences)"
      ],
      "metadata": {
        "colab": {
          "base_uri": "https://localhost:8080/"
        },
        "id": "AWVkc8yD87MK",
        "outputId": "18153300-c433-4852-9e9e-011bc832c0d5"
      },
      "execution_count": 17,
      "outputs": [
        {
          "output_type": "execute_result",
          "data": {
            "text/plain": [
              "TfidfVectorizer(min_df=2, ngram_range=(1, 3), smooth_idf=1,\n",
              "                stop_words='english', strip_accents='unicode', sublinear_tf=1,\n",
              "                token_pattern='\\\\w{1,}', use_idf=1)"
            ]
          },
          "metadata": {},
          "execution_count": 17
        }
      ]
    },
    {
      "cell_type": "code",
      "source": [
        "# get sent-vec from tf-idf\n",
        "sentence_vectors = tf_idf_vectorizer.transform(sentences)"
      ],
      "metadata": {
        "id": "Qrik1Z0j89ow"
      },
      "execution_count": 18,
      "outputs": []
    },
    {
      "cell_type": "code",
      "source": [
        "print(sentence_vectors)"
      ],
      "metadata": {
        "colab": {
          "base_uri": "https://localhost:8080/"
        },
        "id": "2RGV_QuU9Ak0",
        "outputId": "b5287b44-7ccf-4605-d82f-8032a24b05b4"
      },
      "execution_count": 21,
      "outputs": [
        {
          "output_type": "stream",
          "name": "stdout",
          "text": [
            "  (0, 32)\t0.2507402576660486\n",
            "  (0, 30)\t0.14875395133014957\n",
            "  (0, 29)\t0.2827602606496029\n",
            "  (0, 28)\t0.2827602606496029\n",
            "  (0, 27)\t0.2827602606496029\n",
            "  (0, 24)\t0.18845309793231244\n",
            "  (0, 17)\t0.2827602606496029\n",
            "  (0, 16)\t0.2827602606496029\n",
            "  (0, 15)\t0.2827602606496029\n",
            "  (0, 13)\t0.2827602606496029\n",
            "  (0, 12)\t0.2827602606496029\n",
            "  (0, 11)\t0.2827602606496029\n",
            "  (0, 8)\t0.2827602606496029\n",
            "  (0, 6)\t0.2827602606496029\n",
            "  (1, 33)\t0.25361240272598884\n",
            "  (1, 30)\t0.1334199046399026\n",
            "  (1, 26)\t0.25361240272598884\n",
            "  (1, 25)\t0.25361240272598884\n",
            "  (1, 24)\t0.2861871357471958\n",
            "  (1, 21)\t0.25361240272598884\n",
            "  (1, 20)\t0.25361240272598884\n",
            "  (1, 19)\t0.22489312699291228\n",
            "  (1, 18)\t0.22489312699291228\n",
            "  (1, 14)\t0.25361240272598884\n",
            "  (1, 11)\t0.25361240272598884\n",
            "  :\t:\n",
            "  (8, 20)\t0.40338427600850774\n",
            "  (8, 14)\t0.40338427600850774\n",
            "  (8, 10)\t0.40338427600850774\n",
            "  (8, 9)\t0.32227288761467976\n",
            "  (9, 24)\t0.29519952227167706\n",
            "  (9, 15)\t0.44292555960612673\n",
            "  (9, 12)\t0.7499381624450494\n",
            "  (9, 3)\t0.392768307283971\n",
            "  (10, 34)\t0.38612961450203426\n",
            "  (10, 30)\t0.22907492565180698\n",
            "  (10, 22)\t0.43543909325698066\n",
            "  (10, 19)\t0.38612961450203426\n",
            "  (10, 18)\t0.38612961450203426\n",
            "  (10, 10)\t0.43543909325698066\n",
            "  (10, 9)\t0.3478822113564122\n",
            "  (11, 34)\t0.28650281598563004\n",
            "  (11, 31)\t0.3230897649983205\n",
            "  (11, 30)\t0.2877849309101232\n",
            "  (11, 29)\t0.3230897649983205\n",
            "  (11, 28)\t0.3230897649983205\n",
            "  (11, 27)\t0.3230897649983205\n",
            "  (11, 23)\t0.3230897649983205\n",
            "  (11, 17)\t0.3230897649983205\n",
            "  (11, 16)\t0.3230897649983205\n",
            "  (11, 13)\t0.3230897649983205\n"
          ]
        }
      ]
    },
    {
      "cell_type": "markdown",
      "source": [
        "# Sentence Scoring"
      ],
      "metadata": {
        "id": "cx6gZB5s9aRS"
      }
    },
    {
      "cell_type": "code",
      "source": [
        "# Getting sentence scores for each sentences\n",
        "sentence_scores = np.array(sentence_vectors.sum(axis=1)).ravel()"
      ],
      "metadata": {
        "id": "6O0QmZ449H1o"
      },
      "execution_count": 22,
      "outputs": []
    },
    {
      "cell_type": "code",
      "source": [
        "sentence_scores"
      ],
      "metadata": {
        "colab": {
          "base_uri": "https://localhost:8080/"
        },
        "id": "AW5fgrFV9dtN",
        "outputId": "9531bf19-9a1e-48f5-8909-fd5c77370e6a"
      },
      "execution_count": 24,
      "outputs": [
        {
          "output_type": "execute_result",
          "data": {
            "text/plain": [
              "array([3.69831017, 4.08663958, 1.        , 1.94791376, 1.35058657,\n",
              "       1.70557256, 1.        , 4.08573981, 2.77457248, 1.88083155,\n",
              "       2.60622417, 3.15900587, 0.        ])"
            ]
          },
          "metadata": {},
          "execution_count": 24
        }
      ]
    },
    {
      "cell_type": "code",
      "source": [
        "sentence_scores.shape"
      ],
      "metadata": {
        "colab": {
          "base_uri": "https://localhost:8080/"
        },
        "id": "hhCOTQ8Q9gMy",
        "outputId": "89850acb-effe-4f3c-c5a4-819ead32ddc1"
      },
      "execution_count": 25,
      "outputs": [
        {
          "output_type": "execute_result",
          "data": {
            "text/plain": [
              "(13,)"
            ]
          },
          "metadata": {},
          "execution_count": 25
        }
      ]
    },
    {
      "cell_type": "markdown",
      "source": [
        "# Getting Top-N Sentences"
      ],
      "metadata": {
        "id": "5FpbI_XA9wrQ"
      }
    },
    {
      "cell_type": "code",
      "source": [
        "# Getting top-n sentences\n",
        "N = 3\n",
        "top_n_sentences = [sentences[ind] for ind in np.argsort(sentence_scores, axis=0)[::-1][:N]]"
      ],
      "metadata": {
        "id": "v166DwIK9le1"
      },
      "execution_count": 26,
      "outputs": []
    },
    {
      "cell_type": "code",
      "source": [
        "top_n_sentences"
      ],
      "metadata": {
        "colab": {
          "base_uri": "https://localhost:8080/"
        },
        "id": "lKaDMZcn9rE3",
        "outputId": "83959fb4-0ff4-4319-ea29-22c7ce8ac350"
      },
      "execution_count": 27,
      "outputs": [
        {
          "output_type": "execute_result",
          "data": {
            "text/plain": [
              "[\"An acclaimed Victorian painter, Tenniel is celebrated for his illustrations for Lewis Carroll's Alice's Adventures in Wonderland and Through the Looking-Glass.\",\n",
              " \"Lewis Carroll noticed Tenniel's distinct style of work and in 1864, approached the artist to illustrate his book, Alice's Adventures in Wonderland.\",\n",
              " \"Google celebrated British illustrator and artist Sir John Tenniel's 200th birth anniversary with a doodle on February 28.\"]"
            ]
          },
          "metadata": {},
          "execution_count": 27
        }
      ]
    },
    {
      "cell_type": "markdown",
      "source": [
        "# Performing Sentence Ordering"
      ],
      "metadata": {
        "id": "327hBjms93jS"
      }
    },
    {
      "cell_type": "code",
      "source": [
        "mapped_top_n_sentences = [(sentence,sentence_organizer[sentence]) for sentence in top_n_sentences]\n",
        "print(\"Our top_n_sentence with their index: \\n\")\n",
        "for element in mapped_top_n_sentences:\n",
        "    print(element)"
      ],
      "metadata": {
        "colab": {
          "base_uri": "https://localhost:8080/"
        },
        "id": "0nOQPGtL920r",
        "outputId": "9dd93624-f2a6-4c27-dbea-552c4c599cbf"
      },
      "execution_count": 131,
      "outputs": [
        {
          "output_type": "stream",
          "name": "stdout",
          "text": [
            "Our top_n_sentence with their index: \n",
            "\n",
            "(\"An acclaimed Victorian painter, Tenniel is celebrated for his illustrations for Lewis Carroll's Alice's Adventures in Wonderland and Through the Looking-Glass.\", 1)\n",
            "(\"Lewis Carroll noticed Tenniel's distinct style of work and in 1864, approached the artist to illustrate his book, Alice's Adventures in Wonderland.\", 7)\n",
            "(\"Google celebrated British illustrator and artist Sir John Tenniel's 200th birth anniversary with a doodle on February 28.\", 0)\n"
          ]
        }
      ]
    },
    {
      "cell_type": "code",
      "source": [
        "# Ordering our top-n sentences in their original ordering\n",
        "mapped_top_n_sentences = sorted(mapped_top_n_sentences, key = lambda x: x[1])\n",
        "ordered_scored_sentences = [element[0] for element in mapped_top_n_sentences]"
      ],
      "metadata": {
        "id": "FFoW81Wg9sQB"
      },
      "execution_count": 132,
      "outputs": []
    },
    {
      "cell_type": "code",
      "source": [
        "# Our final summary\n",
        "summary = \" \".join(ordered_scored_sentences)\n",
        "summary"
      ],
      "metadata": {
        "colab": {
          "base_uri": "https://localhost:8080/",
          "height": 72
        },
        "id": "FxFHBpYOBuxf",
        "outputId": "fd9195da-25e1-4a44-ac7d-963fc3b58c5b"
      },
      "execution_count": 133,
      "outputs": [
        {
          "output_type": "execute_result",
          "data": {
            "text/plain": [
              "\"Google celebrated British illustrator and artist Sir John Tenniel's 200th birth anniversary with a doodle on February 28. An acclaimed Victorian painter, Tenniel is celebrated for his illustrations for Lewis Carroll's Alice's Adventures in Wonderland and Through the Looking-Glass. Lewis Carroll noticed Tenniel's distinct style of work and in 1864, approached the artist to illustrate his book, Alice's Adventures in Wonderland.\""
            ],
            "application/vnd.google.colaboratory.intrinsic+json": {
              "type": "string"
            }
          },
          "metadata": {},
          "execution_count": 133
        }
      ]
    },
    {
      "cell_type": "code",
      "source": [],
      "metadata": {
        "id": "tmWC0s_cBu0N"
      },
      "execution_count": null,
      "outputs": []
    },
    {
      "cell_type": "code",
      "source": [],
      "metadata": {
        "id": "dPupgzFPBu51"
      },
      "execution_count": null,
      "outputs": []
    },
    {
      "cell_type": "code",
      "source": [],
      "metadata": {
        "id": "PzCaNLPrBu8E"
      },
      "execution_count": null,
      "outputs": []
    },
    {
      "cell_type": "code",
      "source": [],
      "metadata": {
        "id": "YukiYSg9Bu_R"
      },
      "execution_count": null,
      "outputs": []
    },
    {
      "cell_type": "markdown",
      "source": [
        "# TF - IDF"
      ],
      "metadata": {
        "id": "N8Gbu_jxIuc5"
      }
    },
    {
      "cell_type": "code",
      "source": [
        "sentences"
      ],
      "metadata": {
        "colab": {
          "base_uri": "https://localhost:8080/"
        },
        "id": "YFN9_z7tBvCf",
        "outputId": "ec7402dd-396a-42a9-d736-cde882a5ebc6"
      },
      "execution_count": 136,
      "outputs": [
        {
          "output_type": "execute_result",
          "data": {
            "text/plain": [
              "[\"Google celebrated British illustrator and artist Sir John Tenniel's 200th birth anniversary with a doodle on February 28.\",\n",
              " \"An acclaimed Victorian painter, Tenniel is celebrated for his illustrations for Lewis Carroll's Alice's Adventures in Wonderland and Through the Looking-Glass.\",\n",
              " 'Tenniel was born in Bayswater, West London in 1820.',\n",
              " 'At the age of 20, Tenniel received a major eye injury and eventually, lost sight in his right eye.',\n",
              " 'From a very early age, Tenniel was appreciated as a humorist and soon after, also cultured his talent for scholarly caricature.',\n",
              " \"His first illustration was for Samuel Carter Hall's The Book of British Ballads in 1842.\",\n",
              " 'Eight years later, he joined the historic weekly magazine Punch as a political cartoonist.',\n",
              " \"Lewis Carroll noticed Tenniel's distinct style of work and in 1864, approached the artist to illustrate his book, Alice's Adventures in Wonderland.\",\n",
              " 'This association marked Carroll and Tenniel\\'s creative partnership and continued with Through the Looking Glass in 1872. \"',\n",
              " 'The result: a series of classic characters, such as Alice and the Cheshire Cat, as depicted in the Doodle artwork\\'s rendition of their iconic meeting-characters who, along with many others, remain beloved by readers of all ages to this day,\" the Google Doodle page says.',\n",
              " 'After working with Lewis Carroll, Tenniel resumed his work with Punch.',\n",
              " 'For his work, Tenniel also received a knighthood in 1893.Sir John Tenniel died on February 25, 1914.',\n",
              " 'He was 93.']"
            ]
          },
          "metadata": {},
          "execution_count": 136
        }
      ]
    },
    {
      "cell_type": "markdown",
      "source": [
        "**`splitting sentence in to words`**"
      ],
      "metadata": {
        "id": "DNAcDQjbMEs2"
      }
    },
    {
      "cell_type": "code",
      "source": [
        "words_in_sentences = []\n",
        "for j in range(0, len(sentences)):\n",
        "    words_in_sentences.append(sentences[j].split(\" \"))"
      ],
      "metadata": {
        "id": "A03JqhGPJS_J"
      },
      "execution_count": 137,
      "outputs": []
    },
    {
      "cell_type": "code",
      "source": [
        "sentences[0]"
      ],
      "metadata": {
        "colab": {
          "base_uri": "https://localhost:8080/",
          "height": 36
        },
        "id": "IpAC3KMOJ2V3",
        "outputId": "3e4cd68d-2b56-4147-9677-f656f1257f92"
      },
      "execution_count": 138,
      "outputs": [
        {
          "output_type": "execute_result",
          "data": {
            "text/plain": [
              "\"Google celebrated British illustrator and artist Sir John Tenniel's 200th birth anniversary with a doodle on February 28.\""
            ],
            "application/vnd.google.colaboratory.intrinsic+json": {
              "type": "string"
            }
          },
          "metadata": {},
          "execution_count": 138
        }
      ]
    },
    {
      "cell_type": "code",
      "source": [
        "print(words_in_sentences[0])"
      ],
      "metadata": {
        "colab": {
          "base_uri": "https://localhost:8080/"
        },
        "id": "utNm76JDJxS6",
        "outputId": "925a763e-707d-4b15-b4fc-44baa36554d7"
      },
      "execution_count": 139,
      "outputs": [
        {
          "output_type": "stream",
          "name": "stdout",
          "text": [
            "['Google', 'celebrated', 'British', 'illustrator', 'and', 'artist', 'Sir', 'John', \"Tenniel's\", '200th', 'birth', 'anniversary', 'with', 'a', 'doodle', 'on', 'February', '28.']\n"
          ]
        }
      ]
    },
    {
      "cell_type": "code",
      "source": [
        "flat_list = [item for sublist in words_in_sentences for item in sublist]\n",
        "unq = list(set(flat_list))"
      ],
      "metadata": {
        "id": "D95Zz2zIQfHV"
      },
      "execution_count": 140,
      "outputs": []
    },
    {
      "cell_type": "code",
      "source": [
        "len(unq)"
      ],
      "metadata": {
        "colab": {
          "base_uri": "https://localhost:8080/"
        },
        "id": "rvvB-WUoafdW",
        "outputId": "de5aac0d-8b85-4d18-a464-e53cd86be81c"
      },
      "execution_count": 145,
      "outputs": [
        {
          "output_type": "execute_result",
          "data": {
            "text/plain": [
              "154"
            ]
          },
          "metadata": {},
          "execution_count": 145
        }
      ]
    },
    {
      "cell_type": "markdown",
      "source": [
        "**counting words in sentence**"
      ],
      "metadata": {
        "id": "zc6T3elxMtQy"
      }
    },
    {
      "cell_type": "code",
      "source": [
        "from collections import Counter\n",
        "import pandas as pd\n",
        "\n",
        "count_words_in_sentences = []\n",
        "for j in range(0, len(sentences)):\n",
        "    count_words_in_sentences.append(Counter(words_in_sentences[j]))"
      ],
      "metadata": {
        "id": "EGKGwPTxM_Xf"
      },
      "execution_count": 141,
      "outputs": []
    },
    {
      "cell_type": "code",
      "source": [
        "print(count_words_in_sentences[0])"
      ],
      "metadata": {
        "colab": {
          "base_uri": "https://localhost:8080/"
        },
        "id": "EnkxC3PBM_iO",
        "outputId": "e21dd61f-78db-4b9f-b7be-aa41f8195835"
      },
      "execution_count": 142,
      "outputs": [
        {
          "output_type": "stream",
          "name": "stdout",
          "text": [
            "Counter({'Google': 1, 'celebrated': 1, 'British': 1, 'illustrator': 1, 'and': 1, 'artist': 1, 'Sir': 1, 'John': 1, \"Tenniel's\": 1, '200th': 1, 'birth': 1, 'anniversary': 1, 'with': 1, 'a': 1, 'doodle': 1, 'on': 1, 'February': 1, '28.': 1})\n"
          ]
        }
      ]
    },
    {
      "cell_type": "markdown",
      "source": [
        "**Normalizing word counts**"
      ],
      "metadata": {
        "id": "WwzKM8vaQKHY"
      }
    },
    {
      "cell_type": "code",
      "source": [
        "normalized_word_counts = []\n",
        "for j in range(0, len(sentences)):\n",
        "    normalized_word_counts.append([count_words_in_sentences[j].get(i, 0)/len(count_words_in_sentences[j]) for i in unq])"
      ],
      "metadata": {
        "id": "dsKRgYGbM_lD"
      },
      "execution_count": 143,
      "outputs": []
    },
    {
      "cell_type": "code",
      "source": [
        "rows = []\n",
        "\n",
        "for j in range(len(sentences)):\n",
        "    row = pd.DataFrame([normalized_word_counts[j]], columns=unq)\n",
        "    rows.append(row)\n",
        "\n",
        "tf = pd.concat(rows)\n",
        "tf.head()"
      ],
      "metadata": {
        "colab": {
          "base_uri": "https://localhost:8080/",
          "height": 235
        },
        "id": "BiO9A1TeQ2GT",
        "outputId": "abd84dc0-4648-4ff1-c241-a2cb50b3bac6"
      },
      "execution_count": 144,
      "outputs": [
        {
          "output_type": "execute_result",
          "data": {
            "text/plain": [
              "   such  humorist  Doodle  says.   born     200th        At  magazine  \\\n",
              "0   0.0      0.00     0.0    0.0  0.000  0.055556  0.000000       0.0   \n",
              "0   0.0      0.00     0.0    0.0  0.000  0.000000  0.000000       0.0   \n",
              "0   0.0      0.00     0.0    0.0  0.125  0.000000  0.000000       0.0   \n",
              "0   0.0      0.00     0.0    0.0  0.000  0.000000  0.052632       0.0   \n",
              "0   0.0      0.05     0.0    0.0  0.000  0.000000  0.000000       0.0   \n",
              "\n",
              "   artwork's  talent  ...  early  distinct  association  Glass       28.  \\\n",
              "0        0.0    0.00  ...   0.00       0.0          0.0    0.0  0.055556   \n",
              "0        0.0    0.00  ...   0.00       0.0          0.0    0.0  0.000000   \n",
              "0        0.0    0.00  ...   0.00       0.0          0.0    0.0  0.000000   \n",
              "0        0.0    0.00  ...   0.00       0.0          0.0    0.0  0.000000   \n",
              "0        0.0    0.05  ...   0.05       0.0          0.0    0.0  0.000000   \n",
              "\n",
              "   Ballads     right   for  After  This  \n",
              "0      0.0  0.000000  0.00    0.0   0.0  \n",
              "0      0.0  0.000000  0.10    0.0   0.0  \n",
              "0      0.0  0.000000  0.00    0.0   0.0  \n",
              "0      0.0  0.052632  0.00    0.0   0.0  \n",
              "0      0.0  0.000000  0.05    0.0   0.0  \n",
              "\n",
              "[5 rows x 154 columns]"
            ],
            "text/html": [
              "\n",
              "  <div id=\"df-6e7c260a-f40d-48d3-b72d-ca7280e7c0aa\">\n",
              "    <div class=\"colab-df-container\">\n",
              "      <div>\n",
              "<style scoped>\n",
              "    .dataframe tbody tr th:only-of-type {\n",
              "        vertical-align: middle;\n",
              "    }\n",
              "\n",
              "    .dataframe tbody tr th {\n",
              "        vertical-align: top;\n",
              "    }\n",
              "\n",
              "    .dataframe thead th {\n",
              "        text-align: right;\n",
              "    }\n",
              "</style>\n",
              "<table border=\"1\" class=\"dataframe\">\n",
              "  <thead>\n",
              "    <tr style=\"text-align: right;\">\n",
              "      <th></th>\n",
              "      <th>such</th>\n",
              "      <th>humorist</th>\n",
              "      <th>Doodle</th>\n",
              "      <th>says.</th>\n",
              "      <th>born</th>\n",
              "      <th>200th</th>\n",
              "      <th>At</th>\n",
              "      <th>magazine</th>\n",
              "      <th>artwork's</th>\n",
              "      <th>talent</th>\n",
              "      <th>...</th>\n",
              "      <th>early</th>\n",
              "      <th>distinct</th>\n",
              "      <th>association</th>\n",
              "      <th>Glass</th>\n",
              "      <th>28.</th>\n",
              "      <th>Ballads</th>\n",
              "      <th>right</th>\n",
              "      <th>for</th>\n",
              "      <th>After</th>\n",
              "      <th>This</th>\n",
              "    </tr>\n",
              "  </thead>\n",
              "  <tbody>\n",
              "    <tr>\n",
              "      <th>0</th>\n",
              "      <td>0.0</td>\n",
              "      <td>0.00</td>\n",
              "      <td>0.0</td>\n",
              "      <td>0.0</td>\n",
              "      <td>0.000</td>\n",
              "      <td>0.055556</td>\n",
              "      <td>0.000000</td>\n",
              "      <td>0.0</td>\n",
              "      <td>0.0</td>\n",
              "      <td>0.00</td>\n",
              "      <td>...</td>\n",
              "      <td>0.00</td>\n",
              "      <td>0.0</td>\n",
              "      <td>0.0</td>\n",
              "      <td>0.0</td>\n",
              "      <td>0.055556</td>\n",
              "      <td>0.0</td>\n",
              "      <td>0.000000</td>\n",
              "      <td>0.00</td>\n",
              "      <td>0.0</td>\n",
              "      <td>0.0</td>\n",
              "    </tr>\n",
              "    <tr>\n",
              "      <th>0</th>\n",
              "      <td>0.0</td>\n",
              "      <td>0.00</td>\n",
              "      <td>0.0</td>\n",
              "      <td>0.0</td>\n",
              "      <td>0.000</td>\n",
              "      <td>0.000000</td>\n",
              "      <td>0.000000</td>\n",
              "      <td>0.0</td>\n",
              "      <td>0.0</td>\n",
              "      <td>0.00</td>\n",
              "      <td>...</td>\n",
              "      <td>0.00</td>\n",
              "      <td>0.0</td>\n",
              "      <td>0.0</td>\n",
              "      <td>0.0</td>\n",
              "      <td>0.000000</td>\n",
              "      <td>0.0</td>\n",
              "      <td>0.000000</td>\n",
              "      <td>0.10</td>\n",
              "      <td>0.0</td>\n",
              "      <td>0.0</td>\n",
              "    </tr>\n",
              "    <tr>\n",
              "      <th>0</th>\n",
              "      <td>0.0</td>\n",
              "      <td>0.00</td>\n",
              "      <td>0.0</td>\n",
              "      <td>0.0</td>\n",
              "      <td>0.125</td>\n",
              "      <td>0.000000</td>\n",
              "      <td>0.000000</td>\n",
              "      <td>0.0</td>\n",
              "      <td>0.0</td>\n",
              "      <td>0.00</td>\n",
              "      <td>...</td>\n",
              "      <td>0.00</td>\n",
              "      <td>0.0</td>\n",
              "      <td>0.0</td>\n",
              "      <td>0.0</td>\n",
              "      <td>0.000000</td>\n",
              "      <td>0.0</td>\n",
              "      <td>0.000000</td>\n",
              "      <td>0.00</td>\n",
              "      <td>0.0</td>\n",
              "      <td>0.0</td>\n",
              "    </tr>\n",
              "    <tr>\n",
              "      <th>0</th>\n",
              "      <td>0.0</td>\n",
              "      <td>0.00</td>\n",
              "      <td>0.0</td>\n",
              "      <td>0.0</td>\n",
              "      <td>0.000</td>\n",
              "      <td>0.000000</td>\n",
              "      <td>0.052632</td>\n",
              "      <td>0.0</td>\n",
              "      <td>0.0</td>\n",
              "      <td>0.00</td>\n",
              "      <td>...</td>\n",
              "      <td>0.00</td>\n",
              "      <td>0.0</td>\n",
              "      <td>0.0</td>\n",
              "      <td>0.0</td>\n",
              "      <td>0.000000</td>\n",
              "      <td>0.0</td>\n",
              "      <td>0.052632</td>\n",
              "      <td>0.00</td>\n",
              "      <td>0.0</td>\n",
              "      <td>0.0</td>\n",
              "    </tr>\n",
              "    <tr>\n",
              "      <th>0</th>\n",
              "      <td>0.0</td>\n",
              "      <td>0.05</td>\n",
              "      <td>0.0</td>\n",
              "      <td>0.0</td>\n",
              "      <td>0.000</td>\n",
              "      <td>0.000000</td>\n",
              "      <td>0.000000</td>\n",
              "      <td>0.0</td>\n",
              "      <td>0.0</td>\n",
              "      <td>0.05</td>\n",
              "      <td>...</td>\n",
              "      <td>0.05</td>\n",
              "      <td>0.0</td>\n",
              "      <td>0.0</td>\n",
              "      <td>0.0</td>\n",
              "      <td>0.000000</td>\n",
              "      <td>0.0</td>\n",
              "      <td>0.000000</td>\n",
              "      <td>0.05</td>\n",
              "      <td>0.0</td>\n",
              "      <td>0.0</td>\n",
              "    </tr>\n",
              "  </tbody>\n",
              "</table>\n",
              "<p>5 rows × 154 columns</p>\n",
              "</div>\n",
              "      <button class=\"colab-df-convert\" onclick=\"convertToInteractive('df-6e7c260a-f40d-48d3-b72d-ca7280e7c0aa')\"\n",
              "              title=\"Convert this dataframe to an interactive table.\"\n",
              "              style=\"display:none;\">\n",
              "        \n",
              "  <svg xmlns=\"http://www.w3.org/2000/svg\" height=\"24px\"viewBox=\"0 0 24 24\"\n",
              "       width=\"24px\">\n",
              "    <path d=\"M0 0h24v24H0V0z\" fill=\"none\"/>\n",
              "    <path d=\"M18.56 5.44l.94 2.06.94-2.06 2.06-.94-2.06-.94-.94-2.06-.94 2.06-2.06.94zm-11 1L8.5 8.5l.94-2.06 2.06-.94-2.06-.94L8.5 2.5l-.94 2.06-2.06.94zm10 10l.94 2.06.94-2.06 2.06-.94-2.06-.94-.94-2.06-.94 2.06-2.06.94z\"/><path d=\"M17.41 7.96l-1.37-1.37c-.4-.4-.92-.59-1.43-.59-.52 0-1.04.2-1.43.59L10.3 9.45l-7.72 7.72c-.78.78-.78 2.05 0 2.83L4 21.41c.39.39.9.59 1.41.59.51 0 1.02-.2 1.41-.59l7.78-7.78 2.81-2.81c.8-.78.8-2.07 0-2.86zM5.41 20L4 18.59l7.72-7.72 1.47 1.35L5.41 20z\"/>\n",
              "  </svg>\n",
              "      </button>\n",
              "      \n",
              "  <style>\n",
              "    .colab-df-container {\n",
              "      display:flex;\n",
              "      flex-wrap:wrap;\n",
              "      gap: 12px;\n",
              "    }\n",
              "\n",
              "    .colab-df-convert {\n",
              "      background-color: #E8F0FE;\n",
              "      border: none;\n",
              "      border-radius: 50%;\n",
              "      cursor: pointer;\n",
              "      display: none;\n",
              "      fill: #1967D2;\n",
              "      height: 32px;\n",
              "      padding: 0 0 0 0;\n",
              "      width: 32px;\n",
              "    }\n",
              "\n",
              "    .colab-df-convert:hover {\n",
              "      background-color: #E2EBFA;\n",
              "      box-shadow: 0px 1px 2px rgba(60, 64, 67, 0.3), 0px 1px 3px 1px rgba(60, 64, 67, 0.15);\n",
              "      fill: #174EA6;\n",
              "    }\n",
              "\n",
              "    [theme=dark] .colab-df-convert {\n",
              "      background-color: #3B4455;\n",
              "      fill: #D2E3FC;\n",
              "    }\n",
              "\n",
              "    [theme=dark] .colab-df-convert:hover {\n",
              "      background-color: #434B5C;\n",
              "      box-shadow: 0px 1px 3px 1px rgba(0, 0, 0, 0.15);\n",
              "      filter: drop-shadow(0px 1px 2px rgba(0, 0, 0, 0.3));\n",
              "      fill: #FFFFFF;\n",
              "    }\n",
              "  </style>\n",
              "\n",
              "      <script>\n",
              "        const buttonEl =\n",
              "          document.querySelector('#df-6e7c260a-f40d-48d3-b72d-ca7280e7c0aa button.colab-df-convert');\n",
              "        buttonEl.style.display =\n",
              "          google.colab.kernel.accessAllowed ? 'block' : 'none';\n",
              "\n",
              "        async function convertToInteractive(key) {\n",
              "          const element = document.querySelector('#df-6e7c260a-f40d-48d3-b72d-ca7280e7c0aa');\n",
              "          const dataTable =\n",
              "            await google.colab.kernel.invokeFunction('convertToInteractive',\n",
              "                                                     [key], {});\n",
              "          if (!dataTable) return;\n",
              "\n",
              "          const docLinkHtml = 'Like what you see? Visit the ' +\n",
              "            '<a target=\"_blank\" href=https://colab.research.google.com/notebooks/data_table.ipynb>data table notebook</a>'\n",
              "            + ' to learn more about interactive tables.';\n",
              "          element.innerHTML = '';\n",
              "          dataTable['output_type'] = 'display_data';\n",
              "          await google.colab.output.renderOutput(dataTable, element);\n",
              "          const docLink = document.createElement('div');\n",
              "          docLink.innerHTML = docLinkHtml;\n",
              "          element.appendChild(docLink);\n",
              "        }\n",
              "      </script>\n",
              "    </div>\n",
              "  </div>\n",
              "  "
            ]
          },
          "metadata": {},
          "execution_count": 144
        }
      ]
    },
    {
      "cell_type": "code",
      "source": [
        "# calculate nos of documents where the particular word was present\n",
        "\n",
        "x = tf[tf > 0].count()\n",
        "x"
      ],
      "metadata": {
        "colab": {
          "base_uri": "https://localhost:8080/"
        },
        "id": "TGhvXjm6E1zP",
        "outputId": "b175ba0f-5f58-46e3-cfd3-9056f65926c7"
      },
      "execution_count": 146,
      "outputs": [
        {
          "output_type": "execute_result",
          "data": {
            "text/plain": [
              "such        1\n",
              "humorist    1\n",
              "Doodle      1\n",
              "says.       1\n",
              "born        1\n",
              "           ..\n",
              "Ballads     1\n",
              "right       1\n",
              "for         3\n",
              "After       1\n",
              "This        1\n",
              "Length: 154, dtype: int64"
            ]
          },
          "metadata": {},
          "execution_count": 146
        }
      ]
    },
    {
      "cell_type": "code",
      "source": [
        "N = len(sentences)\n",
        "\n",
        "N/x"
      ],
      "metadata": {
        "colab": {
          "base_uri": "https://localhost:8080/"
        },
        "id": "MHsVdEGGG3QD",
        "outputId": "34970cfd-d7fb-4497-86e7-cebd47d19122"
      },
      "execution_count": 147,
      "outputs": [
        {
          "output_type": "execute_result",
          "data": {
            "text/plain": [
              "such        13.000000\n",
              "humorist    13.000000\n",
              "Doodle      13.000000\n",
              "says.       13.000000\n",
              "born        13.000000\n",
              "              ...    \n",
              "Ballads     13.000000\n",
              "right       13.000000\n",
              "for          4.333333\n",
              "After       13.000000\n",
              "This        13.000000\n",
              "Length: 154, dtype: float64"
            ]
          },
          "metadata": {},
          "execution_count": 147
        }
      ]
    },
    {
      "cell_type": "code",
      "source": [
        "np.log(N/x)"
      ],
      "metadata": {
        "colab": {
          "base_uri": "https://localhost:8080/"
        },
        "id": "oziSfkE7HVFK",
        "outputId": "f1e6e2c0-134d-4859-89aa-ecc9885378fb"
      },
      "execution_count": 148,
      "outputs": [
        {
          "output_type": "execute_result",
          "data": {
            "text/plain": [
              "such        2.564949\n",
              "humorist    2.564949\n",
              "Doodle      2.564949\n",
              "says.       2.564949\n",
              "born        2.564949\n",
              "              ...   \n",
              "Ballads     2.564949\n",
              "right       2.564949\n",
              "for         1.466337\n",
              "After       2.564949\n",
              "This        2.564949\n",
              "Length: 154, dtype: float64"
            ]
          },
          "metadata": {},
          "execution_count": 148
        }
      ]
    },
    {
      "cell_type": "code",
      "source": [
        "xx = pd.DataFrame(np.log(N/x)).T\n",
        "xx"
      ],
      "metadata": {
        "colab": {
          "base_uri": "https://localhost:8080/",
          "height": 154
        },
        "id": "EVFaNhiWHYcA",
        "outputId": "9514799a-978b-4937-e19e-23e2a5dfe222"
      },
      "execution_count": 149,
      "outputs": [
        {
          "output_type": "execute_result",
          "data": {
            "text/plain": [
              "       such  humorist    Doodle     says.      born     200th        At  \\\n",
              "0  2.564949  2.564949  2.564949  2.564949  2.564949  2.564949  2.564949   \n",
              "\n",
              "   magazine  artwork's    talent  ...     early  distinct  association  \\\n",
              "0  2.564949   2.564949  2.564949  ...  2.564949  2.564949     2.564949   \n",
              "\n",
              "      Glass       28.   Ballads     right       for     After      This  \n",
              "0  2.564949  2.564949  2.564949  2.564949  1.466337  2.564949  2.564949  \n",
              "\n",
              "[1 rows x 154 columns]"
            ],
            "text/html": [
              "\n",
              "  <div id=\"df-be5c50ad-90f2-4c04-ac38-f79268b96e92\">\n",
              "    <div class=\"colab-df-container\">\n",
              "      <div>\n",
              "<style scoped>\n",
              "    .dataframe tbody tr th:only-of-type {\n",
              "        vertical-align: middle;\n",
              "    }\n",
              "\n",
              "    .dataframe tbody tr th {\n",
              "        vertical-align: top;\n",
              "    }\n",
              "\n",
              "    .dataframe thead th {\n",
              "        text-align: right;\n",
              "    }\n",
              "</style>\n",
              "<table border=\"1\" class=\"dataframe\">\n",
              "  <thead>\n",
              "    <tr style=\"text-align: right;\">\n",
              "      <th></th>\n",
              "      <th>such</th>\n",
              "      <th>humorist</th>\n",
              "      <th>Doodle</th>\n",
              "      <th>says.</th>\n",
              "      <th>born</th>\n",
              "      <th>200th</th>\n",
              "      <th>At</th>\n",
              "      <th>magazine</th>\n",
              "      <th>artwork's</th>\n",
              "      <th>talent</th>\n",
              "      <th>...</th>\n",
              "      <th>early</th>\n",
              "      <th>distinct</th>\n",
              "      <th>association</th>\n",
              "      <th>Glass</th>\n",
              "      <th>28.</th>\n",
              "      <th>Ballads</th>\n",
              "      <th>right</th>\n",
              "      <th>for</th>\n",
              "      <th>After</th>\n",
              "      <th>This</th>\n",
              "    </tr>\n",
              "  </thead>\n",
              "  <tbody>\n",
              "    <tr>\n",
              "      <th>0</th>\n",
              "      <td>2.564949</td>\n",
              "      <td>2.564949</td>\n",
              "      <td>2.564949</td>\n",
              "      <td>2.564949</td>\n",
              "      <td>2.564949</td>\n",
              "      <td>2.564949</td>\n",
              "      <td>2.564949</td>\n",
              "      <td>2.564949</td>\n",
              "      <td>2.564949</td>\n",
              "      <td>2.564949</td>\n",
              "      <td>...</td>\n",
              "      <td>2.564949</td>\n",
              "      <td>2.564949</td>\n",
              "      <td>2.564949</td>\n",
              "      <td>2.564949</td>\n",
              "      <td>2.564949</td>\n",
              "      <td>2.564949</td>\n",
              "      <td>2.564949</td>\n",
              "      <td>1.466337</td>\n",
              "      <td>2.564949</td>\n",
              "      <td>2.564949</td>\n",
              "    </tr>\n",
              "  </tbody>\n",
              "</table>\n",
              "<p>1 rows × 154 columns</p>\n",
              "</div>\n",
              "      <button class=\"colab-df-convert\" onclick=\"convertToInteractive('df-be5c50ad-90f2-4c04-ac38-f79268b96e92')\"\n",
              "              title=\"Convert this dataframe to an interactive table.\"\n",
              "              style=\"display:none;\">\n",
              "        \n",
              "  <svg xmlns=\"http://www.w3.org/2000/svg\" height=\"24px\"viewBox=\"0 0 24 24\"\n",
              "       width=\"24px\">\n",
              "    <path d=\"M0 0h24v24H0V0z\" fill=\"none\"/>\n",
              "    <path d=\"M18.56 5.44l.94 2.06.94-2.06 2.06-.94-2.06-.94-.94-2.06-.94 2.06-2.06.94zm-11 1L8.5 8.5l.94-2.06 2.06-.94-2.06-.94L8.5 2.5l-.94 2.06-2.06.94zm10 10l.94 2.06.94-2.06 2.06-.94-2.06-.94-.94-2.06-.94 2.06-2.06.94z\"/><path d=\"M17.41 7.96l-1.37-1.37c-.4-.4-.92-.59-1.43-.59-.52 0-1.04.2-1.43.59L10.3 9.45l-7.72 7.72c-.78.78-.78 2.05 0 2.83L4 21.41c.39.39.9.59 1.41.59.51 0 1.02-.2 1.41-.59l7.78-7.78 2.81-2.81c.8-.78.8-2.07 0-2.86zM5.41 20L4 18.59l7.72-7.72 1.47 1.35L5.41 20z\"/>\n",
              "  </svg>\n",
              "      </button>\n",
              "      \n",
              "  <style>\n",
              "    .colab-df-container {\n",
              "      display:flex;\n",
              "      flex-wrap:wrap;\n",
              "      gap: 12px;\n",
              "    }\n",
              "\n",
              "    .colab-df-convert {\n",
              "      background-color: #E8F0FE;\n",
              "      border: none;\n",
              "      border-radius: 50%;\n",
              "      cursor: pointer;\n",
              "      display: none;\n",
              "      fill: #1967D2;\n",
              "      height: 32px;\n",
              "      padding: 0 0 0 0;\n",
              "      width: 32px;\n",
              "    }\n",
              "\n",
              "    .colab-df-convert:hover {\n",
              "      background-color: #E2EBFA;\n",
              "      box-shadow: 0px 1px 2px rgba(60, 64, 67, 0.3), 0px 1px 3px 1px rgba(60, 64, 67, 0.15);\n",
              "      fill: #174EA6;\n",
              "    }\n",
              "\n",
              "    [theme=dark] .colab-df-convert {\n",
              "      background-color: #3B4455;\n",
              "      fill: #D2E3FC;\n",
              "    }\n",
              "\n",
              "    [theme=dark] .colab-df-convert:hover {\n",
              "      background-color: #434B5C;\n",
              "      box-shadow: 0px 1px 3px 1px rgba(0, 0, 0, 0.15);\n",
              "      filter: drop-shadow(0px 1px 2px rgba(0, 0, 0, 0.3));\n",
              "      fill: #FFFFFF;\n",
              "    }\n",
              "  </style>\n",
              "\n",
              "      <script>\n",
              "        const buttonEl =\n",
              "          document.querySelector('#df-be5c50ad-90f2-4c04-ac38-f79268b96e92 button.colab-df-convert');\n",
              "        buttonEl.style.display =\n",
              "          google.colab.kernel.accessAllowed ? 'block' : 'none';\n",
              "\n",
              "        async function convertToInteractive(key) {\n",
              "          const element = document.querySelector('#df-be5c50ad-90f2-4c04-ac38-f79268b96e92');\n",
              "          const dataTable =\n",
              "            await google.colab.kernel.invokeFunction('convertToInteractive',\n",
              "                                                     [key], {});\n",
              "          if (!dataTable) return;\n",
              "\n",
              "          const docLinkHtml = 'Like what you see? Visit the ' +\n",
              "            '<a target=\"_blank\" href=https://colab.research.google.com/notebooks/data_table.ipynb>data table notebook</a>'\n",
              "            + ' to learn more about interactive tables.';\n",
              "          element.innerHTML = '';\n",
              "          dataTable['output_type'] = 'display_data';\n",
              "          await google.colab.output.renderOutput(dataTable, element);\n",
              "          const docLink = document.createElement('div');\n",
              "          docLink.innerHTML = docLinkHtml;\n",
              "          element.appendChild(docLink);\n",
              "        }\n",
              "      </script>\n",
              "    </div>\n",
              "  </div>\n",
              "  "
            ]
          },
          "metadata": {},
          "execution_count": 149
        }
      ]
    },
    {
      "cell_type": "code",
      "source": [
        "idf = xx.loc[xx.index.repeat(N)]\n",
        "idf.head()"
      ],
      "metadata": {
        "colab": {
          "base_uri": "https://localhost:8080/",
          "height": 279
        },
        "id": "2evoMw9yHk8c",
        "outputId": "fe837c76-bc08-4e33-ba35-89b0928f66aa"
      },
      "execution_count": 150,
      "outputs": [
        {
          "output_type": "execute_result",
          "data": {
            "text/plain": [
              "       such  humorist    Doodle     says.      born     200th        At  \\\n",
              "0  2.564949  2.564949  2.564949  2.564949  2.564949  2.564949  2.564949   \n",
              "0  2.564949  2.564949  2.564949  2.564949  2.564949  2.564949  2.564949   \n",
              "0  2.564949  2.564949  2.564949  2.564949  2.564949  2.564949  2.564949   \n",
              "0  2.564949  2.564949  2.564949  2.564949  2.564949  2.564949  2.564949   \n",
              "0  2.564949  2.564949  2.564949  2.564949  2.564949  2.564949  2.564949   \n",
              "\n",
              "   magazine  artwork's    talent  ...     early  distinct  association  \\\n",
              "0  2.564949   2.564949  2.564949  ...  2.564949  2.564949     2.564949   \n",
              "0  2.564949   2.564949  2.564949  ...  2.564949  2.564949     2.564949   \n",
              "0  2.564949   2.564949  2.564949  ...  2.564949  2.564949     2.564949   \n",
              "0  2.564949   2.564949  2.564949  ...  2.564949  2.564949     2.564949   \n",
              "0  2.564949   2.564949  2.564949  ...  2.564949  2.564949     2.564949   \n",
              "\n",
              "      Glass       28.   Ballads     right       for     After      This  \n",
              "0  2.564949  2.564949  2.564949  2.564949  1.466337  2.564949  2.564949  \n",
              "0  2.564949  2.564949  2.564949  2.564949  1.466337  2.564949  2.564949  \n",
              "0  2.564949  2.564949  2.564949  2.564949  1.466337  2.564949  2.564949  \n",
              "0  2.564949  2.564949  2.564949  2.564949  1.466337  2.564949  2.564949  \n",
              "0  2.564949  2.564949  2.564949  2.564949  1.466337  2.564949  2.564949  \n",
              "\n",
              "[5 rows x 154 columns]"
            ],
            "text/html": [
              "\n",
              "  <div id=\"df-8a53f283-e0c9-4b34-8a4f-3429ed27c50e\">\n",
              "    <div class=\"colab-df-container\">\n",
              "      <div>\n",
              "<style scoped>\n",
              "    .dataframe tbody tr th:only-of-type {\n",
              "        vertical-align: middle;\n",
              "    }\n",
              "\n",
              "    .dataframe tbody tr th {\n",
              "        vertical-align: top;\n",
              "    }\n",
              "\n",
              "    .dataframe thead th {\n",
              "        text-align: right;\n",
              "    }\n",
              "</style>\n",
              "<table border=\"1\" class=\"dataframe\">\n",
              "  <thead>\n",
              "    <tr style=\"text-align: right;\">\n",
              "      <th></th>\n",
              "      <th>such</th>\n",
              "      <th>humorist</th>\n",
              "      <th>Doodle</th>\n",
              "      <th>says.</th>\n",
              "      <th>born</th>\n",
              "      <th>200th</th>\n",
              "      <th>At</th>\n",
              "      <th>magazine</th>\n",
              "      <th>artwork's</th>\n",
              "      <th>talent</th>\n",
              "      <th>...</th>\n",
              "      <th>early</th>\n",
              "      <th>distinct</th>\n",
              "      <th>association</th>\n",
              "      <th>Glass</th>\n",
              "      <th>28.</th>\n",
              "      <th>Ballads</th>\n",
              "      <th>right</th>\n",
              "      <th>for</th>\n",
              "      <th>After</th>\n",
              "      <th>This</th>\n",
              "    </tr>\n",
              "  </thead>\n",
              "  <tbody>\n",
              "    <tr>\n",
              "      <th>0</th>\n",
              "      <td>2.564949</td>\n",
              "      <td>2.564949</td>\n",
              "      <td>2.564949</td>\n",
              "      <td>2.564949</td>\n",
              "      <td>2.564949</td>\n",
              "      <td>2.564949</td>\n",
              "      <td>2.564949</td>\n",
              "      <td>2.564949</td>\n",
              "      <td>2.564949</td>\n",
              "      <td>2.564949</td>\n",
              "      <td>...</td>\n",
              "      <td>2.564949</td>\n",
              "      <td>2.564949</td>\n",
              "      <td>2.564949</td>\n",
              "      <td>2.564949</td>\n",
              "      <td>2.564949</td>\n",
              "      <td>2.564949</td>\n",
              "      <td>2.564949</td>\n",
              "      <td>1.466337</td>\n",
              "      <td>2.564949</td>\n",
              "      <td>2.564949</td>\n",
              "    </tr>\n",
              "    <tr>\n",
              "      <th>0</th>\n",
              "      <td>2.564949</td>\n",
              "      <td>2.564949</td>\n",
              "      <td>2.564949</td>\n",
              "      <td>2.564949</td>\n",
              "      <td>2.564949</td>\n",
              "      <td>2.564949</td>\n",
              "      <td>2.564949</td>\n",
              "      <td>2.564949</td>\n",
              "      <td>2.564949</td>\n",
              "      <td>2.564949</td>\n",
              "      <td>...</td>\n",
              "      <td>2.564949</td>\n",
              "      <td>2.564949</td>\n",
              "      <td>2.564949</td>\n",
              "      <td>2.564949</td>\n",
              "      <td>2.564949</td>\n",
              "      <td>2.564949</td>\n",
              "      <td>2.564949</td>\n",
              "      <td>1.466337</td>\n",
              "      <td>2.564949</td>\n",
              "      <td>2.564949</td>\n",
              "    </tr>\n",
              "    <tr>\n",
              "      <th>0</th>\n",
              "      <td>2.564949</td>\n",
              "      <td>2.564949</td>\n",
              "      <td>2.564949</td>\n",
              "      <td>2.564949</td>\n",
              "      <td>2.564949</td>\n",
              "      <td>2.564949</td>\n",
              "      <td>2.564949</td>\n",
              "      <td>2.564949</td>\n",
              "      <td>2.564949</td>\n",
              "      <td>2.564949</td>\n",
              "      <td>...</td>\n",
              "      <td>2.564949</td>\n",
              "      <td>2.564949</td>\n",
              "      <td>2.564949</td>\n",
              "      <td>2.564949</td>\n",
              "      <td>2.564949</td>\n",
              "      <td>2.564949</td>\n",
              "      <td>2.564949</td>\n",
              "      <td>1.466337</td>\n",
              "      <td>2.564949</td>\n",
              "      <td>2.564949</td>\n",
              "    </tr>\n",
              "    <tr>\n",
              "      <th>0</th>\n",
              "      <td>2.564949</td>\n",
              "      <td>2.564949</td>\n",
              "      <td>2.564949</td>\n",
              "      <td>2.564949</td>\n",
              "      <td>2.564949</td>\n",
              "      <td>2.564949</td>\n",
              "      <td>2.564949</td>\n",
              "      <td>2.564949</td>\n",
              "      <td>2.564949</td>\n",
              "      <td>2.564949</td>\n",
              "      <td>...</td>\n",
              "      <td>2.564949</td>\n",
              "      <td>2.564949</td>\n",
              "      <td>2.564949</td>\n",
              "      <td>2.564949</td>\n",
              "      <td>2.564949</td>\n",
              "      <td>2.564949</td>\n",
              "      <td>2.564949</td>\n",
              "      <td>1.466337</td>\n",
              "      <td>2.564949</td>\n",
              "      <td>2.564949</td>\n",
              "    </tr>\n",
              "    <tr>\n",
              "      <th>0</th>\n",
              "      <td>2.564949</td>\n",
              "      <td>2.564949</td>\n",
              "      <td>2.564949</td>\n",
              "      <td>2.564949</td>\n",
              "      <td>2.564949</td>\n",
              "      <td>2.564949</td>\n",
              "      <td>2.564949</td>\n",
              "      <td>2.564949</td>\n",
              "      <td>2.564949</td>\n",
              "      <td>2.564949</td>\n",
              "      <td>...</td>\n",
              "      <td>2.564949</td>\n",
              "      <td>2.564949</td>\n",
              "      <td>2.564949</td>\n",
              "      <td>2.564949</td>\n",
              "      <td>2.564949</td>\n",
              "      <td>2.564949</td>\n",
              "      <td>2.564949</td>\n",
              "      <td>1.466337</td>\n",
              "      <td>2.564949</td>\n",
              "      <td>2.564949</td>\n",
              "    </tr>\n",
              "  </tbody>\n",
              "</table>\n",
              "<p>5 rows × 154 columns</p>\n",
              "</div>\n",
              "      <button class=\"colab-df-convert\" onclick=\"convertToInteractive('df-8a53f283-e0c9-4b34-8a4f-3429ed27c50e')\"\n",
              "              title=\"Convert this dataframe to an interactive table.\"\n",
              "              style=\"display:none;\">\n",
              "        \n",
              "  <svg xmlns=\"http://www.w3.org/2000/svg\" height=\"24px\"viewBox=\"0 0 24 24\"\n",
              "       width=\"24px\">\n",
              "    <path d=\"M0 0h24v24H0V0z\" fill=\"none\"/>\n",
              "    <path d=\"M18.56 5.44l.94 2.06.94-2.06 2.06-.94-2.06-.94-.94-2.06-.94 2.06-2.06.94zm-11 1L8.5 8.5l.94-2.06 2.06-.94-2.06-.94L8.5 2.5l-.94 2.06-2.06.94zm10 10l.94 2.06.94-2.06 2.06-.94-2.06-.94-.94-2.06-.94 2.06-2.06.94z\"/><path d=\"M17.41 7.96l-1.37-1.37c-.4-.4-.92-.59-1.43-.59-.52 0-1.04.2-1.43.59L10.3 9.45l-7.72 7.72c-.78.78-.78 2.05 0 2.83L4 21.41c.39.39.9.59 1.41.59.51 0 1.02-.2 1.41-.59l7.78-7.78 2.81-2.81c.8-.78.8-2.07 0-2.86zM5.41 20L4 18.59l7.72-7.72 1.47 1.35L5.41 20z\"/>\n",
              "  </svg>\n",
              "      </button>\n",
              "      \n",
              "  <style>\n",
              "    .colab-df-container {\n",
              "      display:flex;\n",
              "      flex-wrap:wrap;\n",
              "      gap: 12px;\n",
              "    }\n",
              "\n",
              "    .colab-df-convert {\n",
              "      background-color: #E8F0FE;\n",
              "      border: none;\n",
              "      border-radius: 50%;\n",
              "      cursor: pointer;\n",
              "      display: none;\n",
              "      fill: #1967D2;\n",
              "      height: 32px;\n",
              "      padding: 0 0 0 0;\n",
              "      width: 32px;\n",
              "    }\n",
              "\n",
              "    .colab-df-convert:hover {\n",
              "      background-color: #E2EBFA;\n",
              "      box-shadow: 0px 1px 2px rgba(60, 64, 67, 0.3), 0px 1px 3px 1px rgba(60, 64, 67, 0.15);\n",
              "      fill: #174EA6;\n",
              "    }\n",
              "\n",
              "    [theme=dark] .colab-df-convert {\n",
              "      background-color: #3B4455;\n",
              "      fill: #D2E3FC;\n",
              "    }\n",
              "\n",
              "    [theme=dark] .colab-df-convert:hover {\n",
              "      background-color: #434B5C;\n",
              "      box-shadow: 0px 1px 3px 1px rgba(0, 0, 0, 0.15);\n",
              "      filter: drop-shadow(0px 1px 2px rgba(0, 0, 0, 0.3));\n",
              "      fill: #FFFFFF;\n",
              "    }\n",
              "  </style>\n",
              "\n",
              "      <script>\n",
              "        const buttonEl =\n",
              "          document.querySelector('#df-8a53f283-e0c9-4b34-8a4f-3429ed27c50e button.colab-df-convert');\n",
              "        buttonEl.style.display =\n",
              "          google.colab.kernel.accessAllowed ? 'block' : 'none';\n",
              "\n",
              "        async function convertToInteractive(key) {\n",
              "          const element = document.querySelector('#df-8a53f283-e0c9-4b34-8a4f-3429ed27c50e');\n",
              "          const dataTable =\n",
              "            await google.colab.kernel.invokeFunction('convertToInteractive',\n",
              "                                                     [key], {});\n",
              "          if (!dataTable) return;\n",
              "\n",
              "          const docLinkHtml = 'Like what you see? Visit the ' +\n",
              "            '<a target=\"_blank\" href=https://colab.research.google.com/notebooks/data_table.ipynb>data table notebook</a>'\n",
              "            + ' to learn more about interactive tables.';\n",
              "          element.innerHTML = '';\n",
              "          dataTable['output_type'] = 'display_data';\n",
              "          await google.colab.output.renderOutput(dataTable, element);\n",
              "          const docLink = document.createElement('div');\n",
              "          docLink.innerHTML = docLinkHtml;\n",
              "          element.appendChild(docLink);\n",
              "        }\n",
              "      </script>\n",
              "    </div>\n",
              "  </div>\n",
              "  "
            ]
          },
          "metadata": {},
          "execution_count": 150
        }
      ]
    },
    {
      "cell_type": "code",
      "source": [
        "tf_idf = tf*idf.values\n",
        "tf_idf.head()"
      ],
      "metadata": {
        "colab": {
          "base_uri": "https://localhost:8080/",
          "height": 235
        },
        "id": "VIyni3r4H_Y9",
        "outputId": "54f20caf-0d5b-4f72-fda4-4dcf7ed4e150"
      },
      "execution_count": 151,
      "outputs": [
        {
          "output_type": "execute_result",
          "data": {
            "text/plain": [
              "   such  humorist  Doodle  says.      born     200th        At  magazine  \\\n",
              "0   0.0  0.000000     0.0    0.0  0.000000  0.142497  0.000000       0.0   \n",
              "0   0.0  0.000000     0.0    0.0  0.000000  0.000000  0.000000       0.0   \n",
              "0   0.0  0.000000     0.0    0.0  0.320619  0.000000  0.000000       0.0   \n",
              "0   0.0  0.000000     0.0    0.0  0.000000  0.000000  0.134997       0.0   \n",
              "0   0.0  0.128247     0.0    0.0  0.000000  0.000000  0.000000       0.0   \n",
              "\n",
              "   artwork's    talent  ...     early  distinct  association  Glass       28.  \\\n",
              "0        0.0  0.000000  ...  0.000000       0.0          0.0    0.0  0.142497   \n",
              "0        0.0  0.000000  ...  0.000000       0.0          0.0    0.0  0.000000   \n",
              "0        0.0  0.000000  ...  0.000000       0.0          0.0    0.0  0.000000   \n",
              "0        0.0  0.000000  ...  0.000000       0.0          0.0    0.0  0.000000   \n",
              "0        0.0  0.128247  ...  0.128247       0.0          0.0    0.0  0.000000   \n",
              "\n",
              "   Ballads     right       for  After  This  \n",
              "0      0.0  0.000000  0.000000    0.0   0.0  \n",
              "0      0.0  0.000000  0.146634    0.0   0.0  \n",
              "0      0.0  0.000000  0.000000    0.0   0.0  \n",
              "0      0.0  0.134997  0.000000    0.0   0.0  \n",
              "0      0.0  0.000000  0.073317    0.0   0.0  \n",
              "\n",
              "[5 rows x 154 columns]"
            ],
            "text/html": [
              "\n",
              "  <div id=\"df-e8098151-fe80-4274-a1d2-dc1aa01b8b15\">\n",
              "    <div class=\"colab-df-container\">\n",
              "      <div>\n",
              "<style scoped>\n",
              "    .dataframe tbody tr th:only-of-type {\n",
              "        vertical-align: middle;\n",
              "    }\n",
              "\n",
              "    .dataframe tbody tr th {\n",
              "        vertical-align: top;\n",
              "    }\n",
              "\n",
              "    .dataframe thead th {\n",
              "        text-align: right;\n",
              "    }\n",
              "</style>\n",
              "<table border=\"1\" class=\"dataframe\">\n",
              "  <thead>\n",
              "    <tr style=\"text-align: right;\">\n",
              "      <th></th>\n",
              "      <th>such</th>\n",
              "      <th>humorist</th>\n",
              "      <th>Doodle</th>\n",
              "      <th>says.</th>\n",
              "      <th>born</th>\n",
              "      <th>200th</th>\n",
              "      <th>At</th>\n",
              "      <th>magazine</th>\n",
              "      <th>artwork's</th>\n",
              "      <th>talent</th>\n",
              "      <th>...</th>\n",
              "      <th>early</th>\n",
              "      <th>distinct</th>\n",
              "      <th>association</th>\n",
              "      <th>Glass</th>\n",
              "      <th>28.</th>\n",
              "      <th>Ballads</th>\n",
              "      <th>right</th>\n",
              "      <th>for</th>\n",
              "      <th>After</th>\n",
              "      <th>This</th>\n",
              "    </tr>\n",
              "  </thead>\n",
              "  <tbody>\n",
              "    <tr>\n",
              "      <th>0</th>\n",
              "      <td>0.0</td>\n",
              "      <td>0.000000</td>\n",
              "      <td>0.0</td>\n",
              "      <td>0.0</td>\n",
              "      <td>0.000000</td>\n",
              "      <td>0.142497</td>\n",
              "      <td>0.000000</td>\n",
              "      <td>0.0</td>\n",
              "      <td>0.0</td>\n",
              "      <td>0.000000</td>\n",
              "      <td>...</td>\n",
              "      <td>0.000000</td>\n",
              "      <td>0.0</td>\n",
              "      <td>0.0</td>\n",
              "      <td>0.0</td>\n",
              "      <td>0.142497</td>\n",
              "      <td>0.0</td>\n",
              "      <td>0.000000</td>\n",
              "      <td>0.000000</td>\n",
              "      <td>0.0</td>\n",
              "      <td>0.0</td>\n",
              "    </tr>\n",
              "    <tr>\n",
              "      <th>0</th>\n",
              "      <td>0.0</td>\n",
              "      <td>0.000000</td>\n",
              "      <td>0.0</td>\n",
              "      <td>0.0</td>\n",
              "      <td>0.000000</td>\n",
              "      <td>0.000000</td>\n",
              "      <td>0.000000</td>\n",
              "      <td>0.0</td>\n",
              "      <td>0.0</td>\n",
              "      <td>0.000000</td>\n",
              "      <td>...</td>\n",
              "      <td>0.000000</td>\n",
              "      <td>0.0</td>\n",
              "      <td>0.0</td>\n",
              "      <td>0.0</td>\n",
              "      <td>0.000000</td>\n",
              "      <td>0.0</td>\n",
              "      <td>0.000000</td>\n",
              "      <td>0.146634</td>\n",
              "      <td>0.0</td>\n",
              "      <td>0.0</td>\n",
              "    </tr>\n",
              "    <tr>\n",
              "      <th>0</th>\n",
              "      <td>0.0</td>\n",
              "      <td>0.000000</td>\n",
              "      <td>0.0</td>\n",
              "      <td>0.0</td>\n",
              "      <td>0.320619</td>\n",
              "      <td>0.000000</td>\n",
              "      <td>0.000000</td>\n",
              "      <td>0.0</td>\n",
              "      <td>0.0</td>\n",
              "      <td>0.000000</td>\n",
              "      <td>...</td>\n",
              "      <td>0.000000</td>\n",
              "      <td>0.0</td>\n",
              "      <td>0.0</td>\n",
              "      <td>0.0</td>\n",
              "      <td>0.000000</td>\n",
              "      <td>0.0</td>\n",
              "      <td>0.000000</td>\n",
              "      <td>0.000000</td>\n",
              "      <td>0.0</td>\n",
              "      <td>0.0</td>\n",
              "    </tr>\n",
              "    <tr>\n",
              "      <th>0</th>\n",
              "      <td>0.0</td>\n",
              "      <td>0.000000</td>\n",
              "      <td>0.0</td>\n",
              "      <td>0.0</td>\n",
              "      <td>0.000000</td>\n",
              "      <td>0.000000</td>\n",
              "      <td>0.134997</td>\n",
              "      <td>0.0</td>\n",
              "      <td>0.0</td>\n",
              "      <td>0.000000</td>\n",
              "      <td>...</td>\n",
              "      <td>0.000000</td>\n",
              "      <td>0.0</td>\n",
              "      <td>0.0</td>\n",
              "      <td>0.0</td>\n",
              "      <td>0.000000</td>\n",
              "      <td>0.0</td>\n",
              "      <td>0.134997</td>\n",
              "      <td>0.000000</td>\n",
              "      <td>0.0</td>\n",
              "      <td>0.0</td>\n",
              "    </tr>\n",
              "    <tr>\n",
              "      <th>0</th>\n",
              "      <td>0.0</td>\n",
              "      <td>0.128247</td>\n",
              "      <td>0.0</td>\n",
              "      <td>0.0</td>\n",
              "      <td>0.000000</td>\n",
              "      <td>0.000000</td>\n",
              "      <td>0.000000</td>\n",
              "      <td>0.0</td>\n",
              "      <td>0.0</td>\n",
              "      <td>0.128247</td>\n",
              "      <td>...</td>\n",
              "      <td>0.128247</td>\n",
              "      <td>0.0</td>\n",
              "      <td>0.0</td>\n",
              "      <td>0.0</td>\n",
              "      <td>0.000000</td>\n",
              "      <td>0.0</td>\n",
              "      <td>0.000000</td>\n",
              "      <td>0.073317</td>\n",
              "      <td>0.0</td>\n",
              "      <td>0.0</td>\n",
              "    </tr>\n",
              "  </tbody>\n",
              "</table>\n",
              "<p>5 rows × 154 columns</p>\n",
              "</div>\n",
              "      <button class=\"colab-df-convert\" onclick=\"convertToInteractive('df-e8098151-fe80-4274-a1d2-dc1aa01b8b15')\"\n",
              "              title=\"Convert this dataframe to an interactive table.\"\n",
              "              style=\"display:none;\">\n",
              "        \n",
              "  <svg xmlns=\"http://www.w3.org/2000/svg\" height=\"24px\"viewBox=\"0 0 24 24\"\n",
              "       width=\"24px\">\n",
              "    <path d=\"M0 0h24v24H0V0z\" fill=\"none\"/>\n",
              "    <path d=\"M18.56 5.44l.94 2.06.94-2.06 2.06-.94-2.06-.94-.94-2.06-.94 2.06-2.06.94zm-11 1L8.5 8.5l.94-2.06 2.06-.94-2.06-.94L8.5 2.5l-.94 2.06-2.06.94zm10 10l.94 2.06.94-2.06 2.06-.94-2.06-.94-.94-2.06-.94 2.06-2.06.94z\"/><path d=\"M17.41 7.96l-1.37-1.37c-.4-.4-.92-.59-1.43-.59-.52 0-1.04.2-1.43.59L10.3 9.45l-7.72 7.72c-.78.78-.78 2.05 0 2.83L4 21.41c.39.39.9.59 1.41.59.51 0 1.02-.2 1.41-.59l7.78-7.78 2.81-2.81c.8-.78.8-2.07 0-2.86zM5.41 20L4 18.59l7.72-7.72 1.47 1.35L5.41 20z\"/>\n",
              "  </svg>\n",
              "      </button>\n",
              "      \n",
              "  <style>\n",
              "    .colab-df-container {\n",
              "      display:flex;\n",
              "      flex-wrap:wrap;\n",
              "      gap: 12px;\n",
              "    }\n",
              "\n",
              "    .colab-df-convert {\n",
              "      background-color: #E8F0FE;\n",
              "      border: none;\n",
              "      border-radius: 50%;\n",
              "      cursor: pointer;\n",
              "      display: none;\n",
              "      fill: #1967D2;\n",
              "      height: 32px;\n",
              "      padding: 0 0 0 0;\n",
              "      width: 32px;\n",
              "    }\n",
              "\n",
              "    .colab-df-convert:hover {\n",
              "      background-color: #E2EBFA;\n",
              "      box-shadow: 0px 1px 2px rgba(60, 64, 67, 0.3), 0px 1px 3px 1px rgba(60, 64, 67, 0.15);\n",
              "      fill: #174EA6;\n",
              "    }\n",
              "\n",
              "    [theme=dark] .colab-df-convert {\n",
              "      background-color: #3B4455;\n",
              "      fill: #D2E3FC;\n",
              "    }\n",
              "\n",
              "    [theme=dark] .colab-df-convert:hover {\n",
              "      background-color: #434B5C;\n",
              "      box-shadow: 0px 1px 3px 1px rgba(0, 0, 0, 0.15);\n",
              "      filter: drop-shadow(0px 1px 2px rgba(0, 0, 0, 0.3));\n",
              "      fill: #FFFFFF;\n",
              "    }\n",
              "  </style>\n",
              "\n",
              "      <script>\n",
              "        const buttonEl =\n",
              "          document.querySelector('#df-e8098151-fe80-4274-a1d2-dc1aa01b8b15 button.colab-df-convert');\n",
              "        buttonEl.style.display =\n",
              "          google.colab.kernel.accessAllowed ? 'block' : 'none';\n",
              "\n",
              "        async function convertToInteractive(key) {\n",
              "          const element = document.querySelector('#df-e8098151-fe80-4274-a1d2-dc1aa01b8b15');\n",
              "          const dataTable =\n",
              "            await google.colab.kernel.invokeFunction('convertToInteractive',\n",
              "                                                     [key], {});\n",
              "          if (!dataTable) return;\n",
              "\n",
              "          const docLinkHtml = 'Like what you see? Visit the ' +\n",
              "            '<a target=\"_blank\" href=https://colab.research.google.com/notebooks/data_table.ipynb>data table notebook</a>'\n",
              "            + ' to learn more about interactive tables.';\n",
              "          element.innerHTML = '';\n",
              "          dataTable['output_type'] = 'display_data';\n",
              "          await google.colab.output.renderOutput(dataTable, element);\n",
              "          const docLink = document.createElement('div');\n",
              "          docLink.innerHTML = docLinkHtml;\n",
              "          element.appendChild(docLink);\n",
              "        }\n",
              "      </script>\n",
              "    </div>\n",
              "  </div>\n",
              "  "
            ]
          },
          "metadata": {},
          "execution_count": 151
        }
      ]
    },
    {
      "cell_type": "code",
      "source": [
        "tf_idf.loc[:, \"score\"] = tf_idf.values.sum(axis=1)\n",
        "tf_idf.head()"
      ],
      "metadata": {
        "colab": {
          "base_uri": "https://localhost:8080/",
          "height": 235
        },
        "id": "bJGXUWOSIPr9",
        "outputId": "5603e23a-b3d4-460b-95bf-51830b364128"
      },
      "execution_count": 152,
      "outputs": [
        {
          "output_type": "execute_result",
          "data": {
            "text/plain": [
              "   such  humorist  Doodle  says.      born     200th        At  magazine  \\\n",
              "0   0.0  0.000000     0.0    0.0  0.000000  0.142497  0.000000       0.0   \n",
              "0   0.0  0.000000     0.0    0.0  0.000000  0.000000  0.000000       0.0   \n",
              "0   0.0  0.000000     0.0    0.0  0.320619  0.000000  0.000000       0.0   \n",
              "0   0.0  0.000000     0.0    0.0  0.000000  0.000000  0.134997       0.0   \n",
              "0   0.0  0.128247     0.0    0.0  0.000000  0.000000  0.000000       0.0   \n",
              "\n",
              "   artwork's    talent  ...  distinct  association  Glass       28.  Ballads  \\\n",
              "0        0.0  0.000000  ...       0.0          0.0    0.0  0.142497      0.0   \n",
              "0        0.0  0.000000  ...       0.0          0.0    0.0  0.000000      0.0   \n",
              "0        0.0  0.000000  ...       0.0          0.0    0.0  0.000000      0.0   \n",
              "0        0.0  0.000000  ...       0.0          0.0    0.0  0.000000      0.0   \n",
              "0        0.0  0.128247  ...       0.0          0.0    0.0  0.000000      0.0   \n",
              "\n",
              "      right       for  After  This     score  \n",
              "0  0.000000  0.000000    0.0   0.0  1.949693  \n",
              "0  0.000000  0.146634    0.0   0.0  1.919744  \n",
              "0  0.000000  0.000000    0.0   0.0  1.968451  \n",
              "0  0.134997  0.000000    0.0   0.0  1.866432  \n",
              "0  0.000000  0.073317    0.0   0.0  2.023716  \n",
              "\n",
              "[5 rows x 155 columns]"
            ],
            "text/html": [
              "\n",
              "  <div id=\"df-e04c7d6e-1352-4738-8dc3-2e1603e8272e\">\n",
              "    <div class=\"colab-df-container\">\n",
              "      <div>\n",
              "<style scoped>\n",
              "    .dataframe tbody tr th:only-of-type {\n",
              "        vertical-align: middle;\n",
              "    }\n",
              "\n",
              "    .dataframe tbody tr th {\n",
              "        vertical-align: top;\n",
              "    }\n",
              "\n",
              "    .dataframe thead th {\n",
              "        text-align: right;\n",
              "    }\n",
              "</style>\n",
              "<table border=\"1\" class=\"dataframe\">\n",
              "  <thead>\n",
              "    <tr style=\"text-align: right;\">\n",
              "      <th></th>\n",
              "      <th>such</th>\n",
              "      <th>humorist</th>\n",
              "      <th>Doodle</th>\n",
              "      <th>says.</th>\n",
              "      <th>born</th>\n",
              "      <th>200th</th>\n",
              "      <th>At</th>\n",
              "      <th>magazine</th>\n",
              "      <th>artwork's</th>\n",
              "      <th>talent</th>\n",
              "      <th>...</th>\n",
              "      <th>distinct</th>\n",
              "      <th>association</th>\n",
              "      <th>Glass</th>\n",
              "      <th>28.</th>\n",
              "      <th>Ballads</th>\n",
              "      <th>right</th>\n",
              "      <th>for</th>\n",
              "      <th>After</th>\n",
              "      <th>This</th>\n",
              "      <th>score</th>\n",
              "    </tr>\n",
              "  </thead>\n",
              "  <tbody>\n",
              "    <tr>\n",
              "      <th>0</th>\n",
              "      <td>0.0</td>\n",
              "      <td>0.000000</td>\n",
              "      <td>0.0</td>\n",
              "      <td>0.0</td>\n",
              "      <td>0.000000</td>\n",
              "      <td>0.142497</td>\n",
              "      <td>0.000000</td>\n",
              "      <td>0.0</td>\n",
              "      <td>0.0</td>\n",
              "      <td>0.000000</td>\n",
              "      <td>...</td>\n",
              "      <td>0.0</td>\n",
              "      <td>0.0</td>\n",
              "      <td>0.0</td>\n",
              "      <td>0.142497</td>\n",
              "      <td>0.0</td>\n",
              "      <td>0.000000</td>\n",
              "      <td>0.000000</td>\n",
              "      <td>0.0</td>\n",
              "      <td>0.0</td>\n",
              "      <td>1.949693</td>\n",
              "    </tr>\n",
              "    <tr>\n",
              "      <th>0</th>\n",
              "      <td>0.0</td>\n",
              "      <td>0.000000</td>\n",
              "      <td>0.0</td>\n",
              "      <td>0.0</td>\n",
              "      <td>0.000000</td>\n",
              "      <td>0.000000</td>\n",
              "      <td>0.000000</td>\n",
              "      <td>0.0</td>\n",
              "      <td>0.0</td>\n",
              "      <td>0.000000</td>\n",
              "      <td>...</td>\n",
              "      <td>0.0</td>\n",
              "      <td>0.0</td>\n",
              "      <td>0.0</td>\n",
              "      <td>0.000000</td>\n",
              "      <td>0.0</td>\n",
              "      <td>0.000000</td>\n",
              "      <td>0.146634</td>\n",
              "      <td>0.0</td>\n",
              "      <td>0.0</td>\n",
              "      <td>1.919744</td>\n",
              "    </tr>\n",
              "    <tr>\n",
              "      <th>0</th>\n",
              "      <td>0.0</td>\n",
              "      <td>0.000000</td>\n",
              "      <td>0.0</td>\n",
              "      <td>0.0</td>\n",
              "      <td>0.320619</td>\n",
              "      <td>0.000000</td>\n",
              "      <td>0.000000</td>\n",
              "      <td>0.0</td>\n",
              "      <td>0.0</td>\n",
              "      <td>0.000000</td>\n",
              "      <td>...</td>\n",
              "      <td>0.0</td>\n",
              "      <td>0.0</td>\n",
              "      <td>0.0</td>\n",
              "      <td>0.000000</td>\n",
              "      <td>0.0</td>\n",
              "      <td>0.000000</td>\n",
              "      <td>0.000000</td>\n",
              "      <td>0.0</td>\n",
              "      <td>0.0</td>\n",
              "      <td>1.968451</td>\n",
              "    </tr>\n",
              "    <tr>\n",
              "      <th>0</th>\n",
              "      <td>0.0</td>\n",
              "      <td>0.000000</td>\n",
              "      <td>0.0</td>\n",
              "      <td>0.0</td>\n",
              "      <td>0.000000</td>\n",
              "      <td>0.000000</td>\n",
              "      <td>0.134997</td>\n",
              "      <td>0.0</td>\n",
              "      <td>0.0</td>\n",
              "      <td>0.000000</td>\n",
              "      <td>...</td>\n",
              "      <td>0.0</td>\n",
              "      <td>0.0</td>\n",
              "      <td>0.0</td>\n",
              "      <td>0.000000</td>\n",
              "      <td>0.0</td>\n",
              "      <td>0.134997</td>\n",
              "      <td>0.000000</td>\n",
              "      <td>0.0</td>\n",
              "      <td>0.0</td>\n",
              "      <td>1.866432</td>\n",
              "    </tr>\n",
              "    <tr>\n",
              "      <th>0</th>\n",
              "      <td>0.0</td>\n",
              "      <td>0.128247</td>\n",
              "      <td>0.0</td>\n",
              "      <td>0.0</td>\n",
              "      <td>0.000000</td>\n",
              "      <td>0.000000</td>\n",
              "      <td>0.000000</td>\n",
              "      <td>0.0</td>\n",
              "      <td>0.0</td>\n",
              "      <td>0.128247</td>\n",
              "      <td>...</td>\n",
              "      <td>0.0</td>\n",
              "      <td>0.0</td>\n",
              "      <td>0.0</td>\n",
              "      <td>0.000000</td>\n",
              "      <td>0.0</td>\n",
              "      <td>0.000000</td>\n",
              "      <td>0.073317</td>\n",
              "      <td>0.0</td>\n",
              "      <td>0.0</td>\n",
              "      <td>2.023716</td>\n",
              "    </tr>\n",
              "  </tbody>\n",
              "</table>\n",
              "<p>5 rows × 155 columns</p>\n",
              "</div>\n",
              "      <button class=\"colab-df-convert\" onclick=\"convertToInteractive('df-e04c7d6e-1352-4738-8dc3-2e1603e8272e')\"\n",
              "              title=\"Convert this dataframe to an interactive table.\"\n",
              "              style=\"display:none;\">\n",
              "        \n",
              "  <svg xmlns=\"http://www.w3.org/2000/svg\" height=\"24px\"viewBox=\"0 0 24 24\"\n",
              "       width=\"24px\">\n",
              "    <path d=\"M0 0h24v24H0V0z\" fill=\"none\"/>\n",
              "    <path d=\"M18.56 5.44l.94 2.06.94-2.06 2.06-.94-2.06-.94-.94-2.06-.94 2.06-2.06.94zm-11 1L8.5 8.5l.94-2.06 2.06-.94-2.06-.94L8.5 2.5l-.94 2.06-2.06.94zm10 10l.94 2.06.94-2.06 2.06-.94-2.06-.94-.94-2.06-.94 2.06-2.06.94z\"/><path d=\"M17.41 7.96l-1.37-1.37c-.4-.4-.92-.59-1.43-.59-.52 0-1.04.2-1.43.59L10.3 9.45l-7.72 7.72c-.78.78-.78 2.05 0 2.83L4 21.41c.39.39.9.59 1.41.59.51 0 1.02-.2 1.41-.59l7.78-7.78 2.81-2.81c.8-.78.8-2.07 0-2.86zM5.41 20L4 18.59l7.72-7.72 1.47 1.35L5.41 20z\"/>\n",
              "  </svg>\n",
              "      </button>\n",
              "      \n",
              "  <style>\n",
              "    .colab-df-container {\n",
              "      display:flex;\n",
              "      flex-wrap:wrap;\n",
              "      gap: 12px;\n",
              "    }\n",
              "\n",
              "    .colab-df-convert {\n",
              "      background-color: #E8F0FE;\n",
              "      border: none;\n",
              "      border-radius: 50%;\n",
              "      cursor: pointer;\n",
              "      display: none;\n",
              "      fill: #1967D2;\n",
              "      height: 32px;\n",
              "      padding: 0 0 0 0;\n",
              "      width: 32px;\n",
              "    }\n",
              "\n",
              "    .colab-df-convert:hover {\n",
              "      background-color: #E2EBFA;\n",
              "      box-shadow: 0px 1px 2px rgba(60, 64, 67, 0.3), 0px 1px 3px 1px rgba(60, 64, 67, 0.15);\n",
              "      fill: #174EA6;\n",
              "    }\n",
              "\n",
              "    [theme=dark] .colab-df-convert {\n",
              "      background-color: #3B4455;\n",
              "      fill: #D2E3FC;\n",
              "    }\n",
              "\n",
              "    [theme=dark] .colab-df-convert:hover {\n",
              "      background-color: #434B5C;\n",
              "      box-shadow: 0px 1px 3px 1px rgba(0, 0, 0, 0.15);\n",
              "      filter: drop-shadow(0px 1px 2px rgba(0, 0, 0, 0.3));\n",
              "      fill: #FFFFFF;\n",
              "    }\n",
              "  </style>\n",
              "\n",
              "      <script>\n",
              "        const buttonEl =\n",
              "          document.querySelector('#df-e04c7d6e-1352-4738-8dc3-2e1603e8272e button.colab-df-convert');\n",
              "        buttonEl.style.display =\n",
              "          google.colab.kernel.accessAllowed ? 'block' : 'none';\n",
              "\n",
              "        async function convertToInteractive(key) {\n",
              "          const element = document.querySelector('#df-e04c7d6e-1352-4738-8dc3-2e1603e8272e');\n",
              "          const dataTable =\n",
              "            await google.colab.kernel.invokeFunction('convertToInteractive',\n",
              "                                                     [key], {});\n",
              "          if (!dataTable) return;\n",
              "\n",
              "          const docLinkHtml = 'Like what you see? Visit the ' +\n",
              "            '<a target=\"_blank\" href=https://colab.research.google.com/notebooks/data_table.ipynb>data table notebook</a>'\n",
              "            + ' to learn more about interactive tables.';\n",
              "          element.innerHTML = '';\n",
              "          dataTable['output_type'] = 'display_data';\n",
              "          await google.colab.output.renderOutput(dataTable, element);\n",
              "          const docLink = document.createElement('div');\n",
              "          docLink.innerHTML = docLinkHtml;\n",
              "          element.appendChild(docLink);\n",
              "        }\n",
              "      </script>\n",
              "    </div>\n",
              "  </div>\n",
              "  "
            ]
          },
          "metadata": {},
          "execution_count": 152
        }
      ]
    },
    {
      "cell_type": "code",
      "source": [
        "tf_idf['index'] = list(range(0, len(sentences)))"
      ],
      "metadata": {
        "id": "Hk1e7BiuZ4wk"
      },
      "execution_count": 153,
      "outputs": []
    },
    {
      "cell_type": "code",
      "source": [
        "tf_idf.sort_values(['score'], ascending= False).head()"
      ],
      "metadata": {
        "colab": {
          "base_uri": "https://localhost:8080/",
          "height": 235
        },
        "id": "AGO10JfLIoqS",
        "outputId": "f23f508f-8c78-42ea-d323-9ec606ab04a6"
      },
      "execution_count": 154,
      "outputs": [
        {
          "output_type": "execute_result",
          "data": {
            "text/plain": [
              "       such  humorist    Doodle     says.  born  200th   At  magazine  \\\n",
              "0  0.065768       0.0  0.131536  0.065768   0.0    0.0  0.0  0.000000   \n",
              "0  0.000000       0.0  0.000000  0.000000   0.0    0.0  0.0  0.183211   \n",
              "0  0.000000       0.0  0.000000  0.000000   0.0    0.0  0.0  0.000000   \n",
              "0  0.000000       0.0  0.000000  0.000000   0.0    0.0  0.0  0.000000   \n",
              "0  0.000000       0.0  0.000000  0.000000   0.0    0.0  0.0  0.000000   \n",
              "\n",
              "   artwork's  talent  ...  association     Glass  28.   Ballads  right  \\\n",
              "0   0.065768     0.0  ...     0.000000  0.000000  0.0  0.000000    0.0   \n",
              "0   0.000000     0.0  ...     0.000000  0.000000  0.0  0.000000    0.0   \n",
              "0   0.000000     0.0  ...     0.000000  0.000000  0.0  0.000000    0.0   \n",
              "0   0.000000     0.0  ...     0.000000  0.000000  0.0  0.170997    0.0   \n",
              "0   0.000000     0.0  ...     0.150879  0.150879  0.0  0.000000    0.0   \n",
              "\n",
              "        for  After      This     score  index  \n",
              "0  0.000000    0.0  0.000000  2.420730      9  \n",
              "0  0.000000    0.0  0.000000  2.230511      6  \n",
              "0  0.000000    0.0  0.000000  2.102851     12  \n",
              "0  0.097756    0.0  0.000000  2.075820      5  \n",
              "0  0.000000    0.0  0.150879  2.031463      8  \n",
              "\n",
              "[5 rows x 156 columns]"
            ],
            "text/html": [
              "\n",
              "  <div id=\"df-dc02b487-53ef-47d6-85a4-6c4439d3d126\">\n",
              "    <div class=\"colab-df-container\">\n",
              "      <div>\n",
              "<style scoped>\n",
              "    .dataframe tbody tr th:only-of-type {\n",
              "        vertical-align: middle;\n",
              "    }\n",
              "\n",
              "    .dataframe tbody tr th {\n",
              "        vertical-align: top;\n",
              "    }\n",
              "\n",
              "    .dataframe thead th {\n",
              "        text-align: right;\n",
              "    }\n",
              "</style>\n",
              "<table border=\"1\" class=\"dataframe\">\n",
              "  <thead>\n",
              "    <tr style=\"text-align: right;\">\n",
              "      <th></th>\n",
              "      <th>such</th>\n",
              "      <th>humorist</th>\n",
              "      <th>Doodle</th>\n",
              "      <th>says.</th>\n",
              "      <th>born</th>\n",
              "      <th>200th</th>\n",
              "      <th>At</th>\n",
              "      <th>magazine</th>\n",
              "      <th>artwork's</th>\n",
              "      <th>talent</th>\n",
              "      <th>...</th>\n",
              "      <th>association</th>\n",
              "      <th>Glass</th>\n",
              "      <th>28.</th>\n",
              "      <th>Ballads</th>\n",
              "      <th>right</th>\n",
              "      <th>for</th>\n",
              "      <th>After</th>\n",
              "      <th>This</th>\n",
              "      <th>score</th>\n",
              "      <th>index</th>\n",
              "    </tr>\n",
              "  </thead>\n",
              "  <tbody>\n",
              "    <tr>\n",
              "      <th>0</th>\n",
              "      <td>0.065768</td>\n",
              "      <td>0.0</td>\n",
              "      <td>0.131536</td>\n",
              "      <td>0.065768</td>\n",
              "      <td>0.0</td>\n",
              "      <td>0.0</td>\n",
              "      <td>0.0</td>\n",
              "      <td>0.000000</td>\n",
              "      <td>0.065768</td>\n",
              "      <td>0.0</td>\n",
              "      <td>...</td>\n",
              "      <td>0.000000</td>\n",
              "      <td>0.000000</td>\n",
              "      <td>0.0</td>\n",
              "      <td>0.000000</td>\n",
              "      <td>0.0</td>\n",
              "      <td>0.000000</td>\n",
              "      <td>0.0</td>\n",
              "      <td>0.000000</td>\n",
              "      <td>2.420730</td>\n",
              "      <td>9</td>\n",
              "    </tr>\n",
              "    <tr>\n",
              "      <th>0</th>\n",
              "      <td>0.000000</td>\n",
              "      <td>0.0</td>\n",
              "      <td>0.000000</td>\n",
              "      <td>0.000000</td>\n",
              "      <td>0.0</td>\n",
              "      <td>0.0</td>\n",
              "      <td>0.0</td>\n",
              "      <td>0.183211</td>\n",
              "      <td>0.000000</td>\n",
              "      <td>0.0</td>\n",
              "      <td>...</td>\n",
              "      <td>0.000000</td>\n",
              "      <td>0.000000</td>\n",
              "      <td>0.0</td>\n",
              "      <td>0.000000</td>\n",
              "      <td>0.0</td>\n",
              "      <td>0.000000</td>\n",
              "      <td>0.0</td>\n",
              "      <td>0.000000</td>\n",
              "      <td>2.230511</td>\n",
              "      <td>6</td>\n",
              "    </tr>\n",
              "    <tr>\n",
              "      <th>0</th>\n",
              "      <td>0.000000</td>\n",
              "      <td>0.0</td>\n",
              "      <td>0.000000</td>\n",
              "      <td>0.000000</td>\n",
              "      <td>0.0</td>\n",
              "      <td>0.0</td>\n",
              "      <td>0.0</td>\n",
              "      <td>0.000000</td>\n",
              "      <td>0.000000</td>\n",
              "      <td>0.0</td>\n",
              "      <td>...</td>\n",
              "      <td>0.000000</td>\n",
              "      <td>0.000000</td>\n",
              "      <td>0.0</td>\n",
              "      <td>0.000000</td>\n",
              "      <td>0.0</td>\n",
              "      <td>0.000000</td>\n",
              "      <td>0.0</td>\n",
              "      <td>0.000000</td>\n",
              "      <td>2.102851</td>\n",
              "      <td>12</td>\n",
              "    </tr>\n",
              "    <tr>\n",
              "      <th>0</th>\n",
              "      <td>0.000000</td>\n",
              "      <td>0.0</td>\n",
              "      <td>0.000000</td>\n",
              "      <td>0.000000</td>\n",
              "      <td>0.0</td>\n",
              "      <td>0.0</td>\n",
              "      <td>0.0</td>\n",
              "      <td>0.000000</td>\n",
              "      <td>0.000000</td>\n",
              "      <td>0.0</td>\n",
              "      <td>...</td>\n",
              "      <td>0.000000</td>\n",
              "      <td>0.000000</td>\n",
              "      <td>0.0</td>\n",
              "      <td>0.170997</td>\n",
              "      <td>0.0</td>\n",
              "      <td>0.097756</td>\n",
              "      <td>0.0</td>\n",
              "      <td>0.000000</td>\n",
              "      <td>2.075820</td>\n",
              "      <td>5</td>\n",
              "    </tr>\n",
              "    <tr>\n",
              "      <th>0</th>\n",
              "      <td>0.000000</td>\n",
              "      <td>0.0</td>\n",
              "      <td>0.000000</td>\n",
              "      <td>0.000000</td>\n",
              "      <td>0.0</td>\n",
              "      <td>0.0</td>\n",
              "      <td>0.0</td>\n",
              "      <td>0.000000</td>\n",
              "      <td>0.000000</td>\n",
              "      <td>0.0</td>\n",
              "      <td>...</td>\n",
              "      <td>0.150879</td>\n",
              "      <td>0.150879</td>\n",
              "      <td>0.0</td>\n",
              "      <td>0.000000</td>\n",
              "      <td>0.0</td>\n",
              "      <td>0.000000</td>\n",
              "      <td>0.0</td>\n",
              "      <td>0.150879</td>\n",
              "      <td>2.031463</td>\n",
              "      <td>8</td>\n",
              "    </tr>\n",
              "  </tbody>\n",
              "</table>\n",
              "<p>5 rows × 156 columns</p>\n",
              "</div>\n",
              "      <button class=\"colab-df-convert\" onclick=\"convertToInteractive('df-dc02b487-53ef-47d6-85a4-6c4439d3d126')\"\n",
              "              title=\"Convert this dataframe to an interactive table.\"\n",
              "              style=\"display:none;\">\n",
              "        \n",
              "  <svg xmlns=\"http://www.w3.org/2000/svg\" height=\"24px\"viewBox=\"0 0 24 24\"\n",
              "       width=\"24px\">\n",
              "    <path d=\"M0 0h24v24H0V0z\" fill=\"none\"/>\n",
              "    <path d=\"M18.56 5.44l.94 2.06.94-2.06 2.06-.94-2.06-.94-.94-2.06-.94 2.06-2.06.94zm-11 1L8.5 8.5l.94-2.06 2.06-.94-2.06-.94L8.5 2.5l-.94 2.06-2.06.94zm10 10l.94 2.06.94-2.06 2.06-.94-2.06-.94-.94-2.06-.94 2.06-2.06.94z\"/><path d=\"M17.41 7.96l-1.37-1.37c-.4-.4-.92-.59-1.43-.59-.52 0-1.04.2-1.43.59L10.3 9.45l-7.72 7.72c-.78.78-.78 2.05 0 2.83L4 21.41c.39.39.9.59 1.41.59.51 0 1.02-.2 1.41-.59l7.78-7.78 2.81-2.81c.8-.78.8-2.07 0-2.86zM5.41 20L4 18.59l7.72-7.72 1.47 1.35L5.41 20z\"/>\n",
              "  </svg>\n",
              "      </button>\n",
              "      \n",
              "  <style>\n",
              "    .colab-df-container {\n",
              "      display:flex;\n",
              "      flex-wrap:wrap;\n",
              "      gap: 12px;\n",
              "    }\n",
              "\n",
              "    .colab-df-convert {\n",
              "      background-color: #E8F0FE;\n",
              "      border: none;\n",
              "      border-radius: 50%;\n",
              "      cursor: pointer;\n",
              "      display: none;\n",
              "      fill: #1967D2;\n",
              "      height: 32px;\n",
              "      padding: 0 0 0 0;\n",
              "      width: 32px;\n",
              "    }\n",
              "\n",
              "    .colab-df-convert:hover {\n",
              "      background-color: #E2EBFA;\n",
              "      box-shadow: 0px 1px 2px rgba(60, 64, 67, 0.3), 0px 1px 3px 1px rgba(60, 64, 67, 0.15);\n",
              "      fill: #174EA6;\n",
              "    }\n",
              "\n",
              "    [theme=dark] .colab-df-convert {\n",
              "      background-color: #3B4455;\n",
              "      fill: #D2E3FC;\n",
              "    }\n",
              "\n",
              "    [theme=dark] .colab-df-convert:hover {\n",
              "      background-color: #434B5C;\n",
              "      box-shadow: 0px 1px 3px 1px rgba(0, 0, 0, 0.15);\n",
              "      filter: drop-shadow(0px 1px 2px rgba(0, 0, 0, 0.3));\n",
              "      fill: #FFFFFF;\n",
              "    }\n",
              "  </style>\n",
              "\n",
              "      <script>\n",
              "        const buttonEl =\n",
              "          document.querySelector('#df-dc02b487-53ef-47d6-85a4-6c4439d3d126 button.colab-df-convert');\n",
              "        buttonEl.style.display =\n",
              "          google.colab.kernel.accessAllowed ? 'block' : 'none';\n",
              "\n",
              "        async function convertToInteractive(key) {\n",
              "          const element = document.querySelector('#df-dc02b487-53ef-47d6-85a4-6c4439d3d126');\n",
              "          const dataTable =\n",
              "            await google.colab.kernel.invokeFunction('convertToInteractive',\n",
              "                                                     [key], {});\n",
              "          if (!dataTable) return;\n",
              "\n",
              "          const docLinkHtml = 'Like what you see? Visit the ' +\n",
              "            '<a target=\"_blank\" href=https://colab.research.google.com/notebooks/data_table.ipynb>data table notebook</a>'\n",
              "            + ' to learn more about interactive tables.';\n",
              "          element.innerHTML = '';\n",
              "          dataTable['output_type'] = 'display_data';\n",
              "          await google.colab.output.renderOutput(dataTable, element);\n",
              "          const docLink = document.createElement('div');\n",
              "          docLink.innerHTML = docLinkHtml;\n",
              "          element.appendChild(docLink);\n",
              "        }\n",
              "      </script>\n",
              "    </div>\n",
              "  </div>\n",
              "  "
            ]
          },
          "metadata": {},
          "execution_count": 154
        }
      ]
    },
    {
      "cell_type": "code",
      "source": [],
      "metadata": {
        "id": "YWEMCAjhXRoq"
      },
      "execution_count": null,
      "outputs": []
    }
  ]
}