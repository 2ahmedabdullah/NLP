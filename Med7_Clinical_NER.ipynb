{
  "nbformat": 4,
  "nbformat_minor": 0,
  "metadata": {
    "colab": {
      "provenance": []
    },
    "kernelspec": {
      "name": "python3",
      "display_name": "Python 3"
    },
    "language_info": {
      "name": "python"
    },
    "accelerator": "GPU",
    "gpuClass": "standard"
  },
  "cells": [
    {
      "cell_type": "code",
      "execution_count": 15,
      "metadata": {
        "id": "mdBcMNidVxDg"
      },
      "outputs": [],
      "source": [
        "import spacy\n",
        "from spacy import displacy"
      ]
    },
    {
      "cell_type": "code",
      "source": [
        "# ! pip install https://huggingface.co/kormilitzin/en_core_med7_lg/resolve/main/en_core_med7_lg-any-py3-none-any.whl"
      ],
      "metadata": {
        "id": "st9082sZV9oJ"
      },
      "execution_count": 22,
      "outputs": []
    },
    {
      "cell_type": "code",
      "source": [
        "# ! pip install spacy-transformers"
      ],
      "metadata": {
        "id": "XLbzTajHaAi3"
      },
      "execution_count": 23,
      "outputs": []
    },
    {
      "cell_type": "code",
      "source": [
        "med7 = spacy.load(\"en_core_med7_lg\")"
      ],
      "metadata": {
        "id": "aPJQcdqEV9rt"
      },
      "execution_count": 12,
      "outputs": []
    },
    {
      "cell_type": "code",
      "source": [
        "# create distinct colours for labels\n",
        "col_dict = {}\n",
        "seven_colours = ['#e6194B', '#3cb44b', '#ffe119', '#ffd8b1', '#f58231', '#f032e6', '#42d4f4']\n",
        "for label, colour in zip(med7.pipe_labels['ner'], seven_colours):\n",
        "    col_dict[label] = colour\n",
        "\n",
        "options = {'ents': med7.pipe_labels['ner'], 'colors':col_dict}\n"
      ],
      "metadata": {
        "id": "rS9zqZQDYgJI"
      },
      "execution_count": 13,
      "outputs": []
    },
    {
      "cell_type": "code",
      "source": [
        "text = 'A patient was prescribed Magnesium hydroxide 400mg/5ml suspension PO of total 30ml bid for the next 5 days.'"
      ],
      "metadata": {
        "id": "2Dn5Pk5SagJb"
      },
      "execution_count": 14,
      "outputs": []
    },
    {
      "cell_type": "code",
      "source": [
        "doc = med7(text)\n",
        "\n",
        "print('ORIGINAL TEXT')\n",
        "\n",
        "print(text)\n",
        "print('='*200)\n",
        "spacy.displacy.render(doc, style='ent', jupyter=True, options=options)\n",
        "\n"
      ],
      "metadata": {
        "colab": {
          "base_uri": "https://localhost:8080/",
          "height": 124
        },
        "id": "Svv2feRGaiQ0",
        "outputId": "58bd9181-66fa-449a-c30d-27fcca7679e3"
      },
      "execution_count": 20,
      "outputs": [
        {
          "output_type": "stream",
          "name": "stdout",
          "text": [
            "ORIGINAL TEXT\n",
            "A patient was prescribed Magnesium hydroxide 400mg/5ml suspension PO of total 30ml bid for the next 5 days.\n",
            "========================================================================================================================================================================================================\n"
          ]
        },
        {
          "output_type": "display_data",
          "data": {
            "text/plain": [
              "<IPython.core.display.HTML object>"
            ],
            "text/html": [
              "<span class=\"tex2jax_ignore\"><div class=\"entities\" style=\"line-height: 2.5; direction: ltr\">A patient was prescribed \n",
              "<mark class=\"entity\" style=\"background: #3cb44b; padding: 0.45em 0.6em; margin: 0 0.25em; line-height: 1; border-radius: 0.35em;\">\n",
              "    Magnesium hydroxide\n",
              "    <span style=\"font-size: 0.8em; font-weight: bold; line-height: 1; border-radius: 0.35em; vertical-align: middle; margin-left: 0.5rem\">DRUG</span>\n",
              "</mark>\n",
              " \n",
              "<mark class=\"entity\" style=\"background: #e6194B; padding: 0.45em 0.6em; margin: 0 0.25em; line-height: 1; border-radius: 0.35em;\">\n",
              "    400mg/5ml\n",
              "    <span style=\"font-size: 0.8em; font-weight: bold; line-height: 1; border-radius: 0.35em; vertical-align: middle; margin-left: 0.5rem\">DOSAGE</span>\n",
              "</mark>\n",
              " \n",
              "<mark class=\"entity\" style=\"background: #ffd8b1; padding: 0.45em 0.6em; margin: 0 0.25em; line-height: 1; border-radius: 0.35em;\">\n",
              "    suspension\n",
              "    <span style=\"font-size: 0.8em; font-weight: bold; line-height: 1; border-radius: 0.35em; vertical-align: middle; margin-left: 0.5rem\">FORM</span>\n",
              "</mark>\n",
              " \n",
              "<mark class=\"entity\" style=\"background: #f032e6; padding: 0.45em 0.6em; margin: 0 0.25em; line-height: 1; border-radius: 0.35em;\">\n",
              "    PO\n",
              "    <span style=\"font-size: 0.8em; font-weight: bold; line-height: 1; border-radius: 0.35em; vertical-align: middle; margin-left: 0.5rem\">ROUTE</span>\n",
              "</mark>\n",
              " of total \n",
              "<mark class=\"entity\" style=\"background: #e6194B; padding: 0.45em 0.6em; margin: 0 0.25em; line-height: 1; border-radius: 0.35em;\">\n",
              "    30ml\n",
              "    <span style=\"font-size: 0.8em; font-weight: bold; line-height: 1; border-radius: 0.35em; vertical-align: middle; margin-left: 0.5rem\">DOSAGE</span>\n",
              "</mark>\n",
              " \n",
              "<mark class=\"entity\" style=\"background: #f58231; padding: 0.45em 0.6em; margin: 0 0.25em; line-height: 1; border-radius: 0.35em;\">\n",
              "    bid\n",
              "    <span style=\"font-size: 0.8em; font-weight: bold; line-height: 1; border-radius: 0.35em; vertical-align: middle; margin-left: 0.5rem\">FREQUENCY</span>\n",
              "</mark>\n",
              " for the next 5 days.</div></span>"
            ]
          },
          "metadata": {}
        }
      ]
    },
    {
      "cell_type": "markdown",
      "source": [
        "![image.png](data:image/png;base64,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)"
      ],
      "metadata": {
        "id": "xzN6lSg4cMA0"
      }
    },
    {
      "cell_type": "code",
      "source": [
        "[(ent.text, ent.label_) for ent in doc.ents]"
      ],
      "metadata": {
        "colab": {
          "base_uri": "https://localhost:8080/"
        },
        "id": "6jHnU-eZasGn",
        "outputId": "c1f9093f-f638-4972-a2c9-de9d5b54d3e9"
      },
      "execution_count": 21,
      "outputs": [
        {
          "output_type": "execute_result",
          "data": {
            "text/plain": [
              "[('Magnesium hydroxide', 'DRUG'),\n",
              " ('400mg/5ml', 'DOSAGE'),\n",
              " ('suspension', 'FORM'),\n",
              " ('PO', 'ROUTE'),\n",
              " ('30ml', 'DOSAGE'),\n",
              " ('bid', 'FREQUENCY')]"
            ]
          },
          "metadata": {},
          "execution_count": 21
        }
      ]
    },
    {
      "cell_type": "code",
      "source": [],
      "metadata": {
        "id": "y57JxZZtbM8b"
      },
      "execution_count": null,
      "outputs": []
    }
  ]
}